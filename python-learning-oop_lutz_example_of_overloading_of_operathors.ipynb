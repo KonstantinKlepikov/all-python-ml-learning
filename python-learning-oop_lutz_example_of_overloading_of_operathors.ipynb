{
 "cells": [
  {
   "cell_type": "markdown",
   "metadata": {},
   "source": [
    "![one](python_learning/content/001.png)\n",
    "![two](python_learning/content/002.png)\n",
    "![thre](python_learning/content/003.png)"
   ]
  },
  {
   "cell_type": "markdown",
   "metadata": {},
   "source": [
    "## Индексация и срезы __getitem__ и __setitem__"
   ]
  },
  {
   "cell_type": "markdown",
   "metadata": {},
   "source": [
    "Если в классе определен __getitem__, то он автоматически вызывается для операции индексирования для экземпляра. В python индекс осуществляется через this\\[that\\]. В примере оператор переорпеделн и возвращает значение * 2"
   ]
  },
  {
   "cell_type": "code",
   "execution_count": 1,
   "metadata": {},
   "outputs": [],
   "source": [
    "from python_learning import oop_lutz_03_2_indexing as ind"
   ]
  },
  {
   "cell_type": "code",
   "execution_count": 2,
   "metadata": {},
   "outputs": [
    {
     "data": {
      "text/plain": [
       "<module 'python_learning.oop_lutz_03_2_indexing' from '/home/konstantin/_code_/all-python-ml-learning/python_learning/oop_lutz_03_2_indexing.py'>"
      ]
     },
     "execution_count": 2,
     "metadata": {},
     "output_type": "execute_result"
    }
   ],
   "source": [
    "from imp import reload\n",
    "reload(ind)"
   ]
  },
  {
   "cell_type": "code",
   "execution_count": 3,
   "metadata": {},
   "outputs": [],
   "source": [
    "X = ind.SimpleIndexer()"
   ]
  },
  {
   "cell_type": "code",
   "execution_count": 4,
   "metadata": {},
   "outputs": [
    {
     "name": "stdout",
     "output_type": "stream",
     "text": [
      "0 1 4 9 16 "
     ]
    }
   ],
   "source": [
    "for i in range(5):\n",
    "    print(X[i], end=' ')"
   ]
  },
  {
   "cell_type": "markdown",
   "metadata": {},
   "source": [
    "В python встроенные типы обрабатывают индексирование тем же методом - __getattr__. Однако границы нарезания сначала упаковываются в объект среза, а затем передаются для индексирвоания списка"
   ]
  },
  {
   "cell_type": "code",
   "execution_count": 5,
   "metadata": {},
   "outputs": [
    {
     "data": {
      "text/plain": [
       "3"
      ]
     },
     "execution_count": 5,
     "metadata": {},
     "output_type": "execute_result"
    }
   ],
   "source": [
    "L = [1, 3, 5, 7, 8]\n",
    "L[1]"
   ]
  },
  {
   "cell_type": "code",
   "execution_count": 6,
   "metadata": {},
   "outputs": [
    {
     "data": {
      "text/plain": [
       "[1, 3]"
      ]
     },
     "execution_count": 6,
     "metadata": {},
     "output_type": "execute_result"
    }
   ],
   "source": [
    "L[0:2]"
   ]
  },
  {
   "cell_type": "markdown",
   "metadata": {},
   "source": [
    "Такая констраукция - синт.сахар и это всегда можно делать вручную"
   ]
  },
  {
   "cell_type": "code",
   "execution_count": 7,
   "metadata": {},
   "outputs": [
    {
     "data": {
      "text/plain": [
       "[1, 5, 8]"
      ]
     },
     "execution_count": 7,
     "metadata": {},
     "output_type": "execute_result"
    }
   ],
   "source": [
    "L[slice(None, None, 2)]"
   ]
  },
  {
   "cell_type": "markdown",
   "metadata": {},
   "source": [
    "В классе это имеет значение - надо вначале проверить какой объект передается, прежде чем определить , что именно с ним будет выполнено. В данном случае мы выводим двойной индекс, если пришел int или выводим атрибуты slice() start, stop, step, если пришел список."
   ]
  },
  {
   "cell_type": "code",
   "execution_count": 8,
   "metadata": {},
   "outputs": [],
   "source": [
    "Y = ind.IndexAndSlice()"
   ]
  },
  {
   "cell_type": "code",
   "execution_count": 9,
   "metadata": {},
   "outputs": [
    {
     "name": "stdout",
     "output_type": "stream",
     "text": [
      "indexing - index * 2 = 14\n"
     ]
    }
   ],
   "source": [
    "Y[7]"
   ]
  },
  {
   "cell_type": "code",
   "execution_count": 10,
   "metadata": {},
   "outputs": [
    {
     "name": "stdout",
     "output_type": "stream",
     "text": [
      "slicing 1 22 2\n"
     ]
    }
   ],
   "source": [
    "Y[1:22:2]"
   ]
  },
  {
   "cell_type": "code",
   "execution_count": 11,
   "metadata": {},
   "outputs": [
    {
     "name": "stdout",
     "output_type": "stream",
     "text": [
      "slicing 1 None None\n"
     ]
    }
   ],
   "source": [
    "Y[1:]"
   ]
  },
  {
   "cell_type": "markdown",
   "metadata": {},
   "source": [
    "Оператор for работает путем мно? гократного индексирования последовательности от нуля до более высоких индексов, пока не обнаружится исключение выхода за границы IndexError. По этой причине __ getitem__ также оказывается одним из способов перегрузки итерации в Python - если он определен, тогда циклы for на каждом проходе вызывают метод__ getitem класса с последовательно увеличивающимися смещениями\n",
    "\n",
    "**В данном случае будем возвращать удвоенную позицию по индексу из последовательности**"
   ]
  },
  {
   "cell_type": "code",
   "execution_count": 12,
   "metadata": {},
   "outputs": [
    {
     "data": {
      "text/plain": [
       "'aa'"
      ]
     },
     "execution_count": 12,
     "metadata": {},
     "output_type": "execute_result"
    }
   ],
   "source": [
    "Z = ind.StepperIndex()\n",
    "Z.data = 'Spam'\n",
    "Z[2]"
   ]
  },
  {
   "cell_type": "code",
   "execution_count": 13,
   "metadata": {},
   "outputs": [
    {
     "name": "stdout",
     "output_type": "stream",
     "text": [
      "SS pp aa mm "
     ]
    }
   ],
   "source": [
    "for item in Z:\n",
    "    print(item, end=' ')"
   ]
  },
  {
   "cell_type": "code",
   "execution_count": 14,
   "metadata": {},
   "outputs": [
    {
     "data": {
      "text/plain": [
       "True"
      ]
     },
     "execution_count": 14,
     "metadata": {},
     "output_type": "execute_result"
    }
   ],
   "source": [
    "# на самом деле, если определен __getitem__ наследуются все методы, связанные с итерацией\n",
    "'pp' in Z"
   ]
  },
  {
   "cell_type": "code",
   "execution_count": 15,
   "metadata": {},
   "outputs": [
    {
     "data": {
      "text/plain": [
       "['SS', 'pp', 'aa', 'mm']"
      ]
     },
     "execution_count": 15,
     "metadata": {},
     "output_type": "execute_result"
    }
   ],
   "source": [
    "[i for i in Z]"
   ]
  },
  {
   "cell_type": "code",
   "execution_count": 16,
   "metadata": {},
   "outputs": [
    {
     "data": {
      "text/plain": [
       "('SS', 'pp', 'aa', 'mm')"
      ]
     },
     "execution_count": 16,
     "metadata": {},
     "output_type": "execute_result"
    }
   ],
   "source": [
    "(a, b, c, d) = Z\n",
    "a, b, c, d"
   ]
  },
  {
   "cell_type": "code",
   "execution_count": 17,
   "metadata": {},
   "outputs": [
    {
     "data": {
      "text/plain": [
       "(['SS', 'pp', 'aa', 'mm'], ('SS', 'pp', 'aa', 'mm'), 'SSppaamm')"
      ]
     },
     "execution_count": 17,
     "metadata": {},
     "output_type": "execute_result"
    }
   ],
   "source": [
    "list(Z), tuple(Z), ''.join(Z)"
   ]
  },
  {
   "cell_type": "markdown",
   "metadata": {},
   "source": [
    "## Итерируемые объекты __iter__ и __next__\n",
    "\n",
    "__iter__() проверяется для объекта первым. Если его нет, проверяется __getitem__(). То есть для многократного индексирования объекта они выбирают протокол итерации, Попытка индекса будет предпринята только, если недоступна итерация. Поэтому определение __iter__() предпочтительнее, хотя и сложнее в реализации."
   ]
  },
  {
   "cell_type": "code",
   "execution_count": 18,
   "metadata": {},
   "outputs": [],
   "source": [
    "from python_learning import oop_lutz_03_3_iter as it"
   ]
  },
  {
   "cell_type": "code",
   "execution_count": 19,
   "metadata": {},
   "outputs": [
    {
     "data": {
      "text/plain": [
       "<module 'python_learning.oop_lutz_03_3_iter' from '/home/konstantin/_code_/all-python-ml-learning/python_learning/oop_lutz_03_3_iter.py'>"
      ]
     },
     "execution_count": 19,
     "metadata": {},
     "output_type": "execute_result"
    }
   ],
   "source": [
    "reload(it)"
   ]
  },
  {
   "cell_type": "code",
   "execution_count": 20,
   "metadata": {},
   "outputs": [
    {
     "name": "stdout",
     "output_type": "stream",
     "text": [
      "1 4 9 16 25 "
     ]
    }
   ],
   "source": [
    "X = it.Squares(1, 5)\n",
    "for i in X:\n",
    "    print(i, end=' ')"
   ]
  },
  {
   "cell_type": "code",
   "execution_count": 21,
   "metadata": {},
   "outputs": [
    {
     "data": {
      "text/plain": [
       "1"
      ]
     },
     "execution_count": 21,
     "metadata": {},
     "output_type": "execute_result"
    }
   ],
   "source": [
    "# итерация вручную - пока не срайзится конец итератора\n",
    "X = it.Squares(1, 5)\n",
    "I = iter(X)\n",
    "next(I)"
   ]
  },
  {
   "cell_type": "markdown",
   "metadata": {},
   "source": [
    "Подход в целом не поддерживает индексацию\n",
    "```python\n",
    "X = Squares(1, 5) \n",
    "Х[1]\n",
    "```\n",
    "TypeError: 'Squares' object does not support indexing Ошибка типа: объект Squares не поддерживает индексирование "
   ]
  },
  {
   "cell_type": "code",
   "execution_count": 22,
   "metadata": {},
   "outputs": [
    {
     "data": {
      "text/plain": [
       "4"
      ]
     },
     "execution_count": 22,
     "metadata": {},
     "output_type": "execute_result"
    }
   ],
   "source": [
    "# но можно обенрнуть списком, а уже его проиндексировать - не забываем, что \n",
    "# объект поддерживает проходку только один раз\n",
    "X = it.Squares(1, 5)\n",
    "list(X)[1]"
   ]
  },
  {
   "cell_type": "markdown",
   "metadata": {},
   "source": [
    "Так-же, как и __getitem__(), __iter__() наследует все операции над последовательностями. Елинственное - __iter__() вернет объект только для однократной итерации."
   ]
  },
  {
   "cell_type": "code",
   "execution_count": 23,
   "metadata": {},
   "outputs": [
    {
     "data": {
      "text/plain": [
       "[1, 4, 9, 16, 25]"
      ]
     },
     "execution_count": 23,
     "metadata": {},
     "output_type": "execute_result"
    }
   ],
   "source": [
    "X = it.Squares(1, 5)\n",
    "[i for i in X]"
   ]
  },
  {
   "cell_type": "code",
   "execution_count": 24,
   "metadata": {},
   "outputs": [
    {
     "data": {
      "text/plain": [
       "[]"
      ]
     },
     "execution_count": 24,
     "metadata": {},
     "output_type": "execute_result"
    }
   ],
   "source": [
    "[i for i in X]"
   ]
  },
  {
   "cell_type": "markdown",
   "metadata": {},
   "source": [
    "В отличие от классов генераторные функции и выражения неявно сохраняют свое состояние и создают методы, требуемые для соответствия протоколу итерации — с очевидными преимуществами в плане лаконичности кода в случае более простых примеров вроде показанных. С другой стороны, более явные атрибуты и методы класса, дополнительная структура, иерархии наследования и поддержка множества линий поведения могут лучше подходить в сложных сценариях использования"
   ]
  },
  {
   "cell_type": "code",
   "execution_count": 25,
   "metadata": {},
   "outputs": [
    {
     "name": "stdout",
     "output_type": "stream",
     "text": [
      "1 4 9 16 25 "
     ]
    }
   ],
   "source": [
    "def qsq(start, stop):\n",
    "    for i in range(start, stop + 1):\n",
    "        yield i ** 2\n",
    "        \n",
    "for i in qsq(1, 5):\n",
    "    print(i, end=' ')"
   ]
  },
  {
   "cell_type": "code",
   "execution_count": 26,
   "metadata": {},
   "outputs": [
    {
     "name": "stdout",
     "output_type": "stream",
     "text": [
      "1 4 9 16 25 "
     ]
    }
   ],
   "source": [
    "for i in (x**2 for x in range(1, 6)):\n",
    "    print(i, end=' ')"
   ]
  },
  {
   "cell_type": "markdown",
   "metadata": {},
   "source": [
    "Мы самостоятельно решаем, будет ли поддерживать наш экземпляр единственную активную итерацию или же много итераций. Чтобы достичь эффекта множества итераторов, методу __iter__() просто необходимо определить для итератора новый объект с состоянием взамен возвращения self в ответ на каждый запрос итератора"
   ]
  },
  {
   "cell_type": "code",
   "execution_count": 27,
   "metadata": {},
   "outputs": [],
   "source": [
    "from python_learning import oop_lutz_03_3_iter_multy as it_mult"
   ]
  },
  {
   "cell_type": "code",
   "execution_count": 28,
   "metadata": {},
   "outputs": [
    {
     "name": "stdout",
     "output_type": "stream",
     "text": [
      "a c e\n",
      "aaaa acac aeae caca cccc cece eaea ecec eeee "
     ]
    }
   ],
   "source": [
    "text = 'abcde'\n",
    "skipper = it_mult.SkipObject(text)\n",
    "I = iter(skipper) # indexes\n",
    "print(next(I), next(I), next(I))\n",
    "\n",
    "for x in skipper:\n",
    "    for y in skipper:\n",
    "        print((x + y)*2, end=' ')"
   ]
  },
  {
   "cell_type": "code",
   "execution_count": 29,
   "metadata": {},
   "outputs": [
    {
     "name": "stdout",
     "output_type": "stream",
     "text": [
      "aaaa aacc aaee ccaa cccc ccee eeaa eecc eeee "
     ]
    }
   ],
   "source": [
    "for x in skipper:\n",
    "    for y in skipper:\n",
    "        print((x*2 + y*2), end=' ')"
   ]
  },
  {
   "cell_type": "markdown",
   "metadata": {},
   "source": [
    "Более лаконичную реализаци. через yield смотри в примерах"
   ]
  },
  {
   "cell_type": "code",
   "execution_count": null,
   "metadata": {},
   "outputs": [],
   "source": []
  }
 ],
 "metadata": {
  "kernelspec": {
   "display_name": "Python 3",
   "language": "python",
   "name": "python3"
  },
  "language_info": {
   "codemirror_mode": {
    "name": "ipython",
    "version": 3
   },
   "file_extension": ".py",
   "mimetype": "text/x-python",
   "name": "python",
   "nbconvert_exporter": "python",
   "pygments_lexer": "ipython3",
   "version": "3.7.7"
  }
 },
 "nbformat": 4,
 "nbformat_minor": 4
}
