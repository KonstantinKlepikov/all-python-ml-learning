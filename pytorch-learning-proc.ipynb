{
 "cells": [
  {
   "cell_type": "code",
   "execution_count": 1,
   "metadata": {},
   "outputs": [],
   "source": [
    "import torch\n",
    "import torch.nn as nn\n",
    "import torch.utils.data\n",
    "import torchvision\n",
    "from functools import partial\n",
    "from torch import optim\n",
    "from torch.utils.tensorboard import SummaryWriter\n",
    "from torchvision import datasets, transforms"
   ]
  },
  {
   "cell_type": "markdown",
   "metadata": {},
   "source": [
    "tensorboard --logdir=runs"
   ]
  },
  {
   "cell_type": "code",
   "execution_count": 2,
   "metadata": {},
   "outputs": [],
   "source": [
    "writer = SummaryWriter()\n",
    "writer.add_scalar('example', 3)"
   ]
  },
  {
   "cell_type": "code",
   "execution_count": 4,
   "metadata": {},
   "outputs": [],
   "source": [
    "import random\n",
    "value = 10\n",
    "writer.add_scalar('test_loop', value, 0)\n",
    "for i in range(1, 10000):\n",
    "    value += random.random() - 0.5\n",
    "    writer.add_scalar('test_loop', value, i)"
   ]
  },
  {
   "cell_type": "code",
   "execution_count": 5,
   "metadata": {},
   "outputs": [],
   "source": [
    "# resnet visualisation - необходимо передать саму модель и тензор для трассировки графа\n",
    "from torchvision import models\n",
    "\n",
    "model = models.resnet18(False)\n",
    "writer.add_graph(model, torch.rand([1, 3, 224, 224]))"
   ]
  },
  {
   "cell_type": "markdown",
   "metadata": {},
   "source": [
    "#### Использование хуков для получения информации о модели"
   ]
  },
  {
   "cell_type": "code",
   "execution_count": 8,
   "metadata": {},
   "outputs": [
    {
     "data": {
      "text/plain": [
       "tensor([[-4.0559e-01, -5.4750e-01,  1.7231e-01, -1.1816e-01,  9.6418e-01,\n",
       "         -7.6533e-01,  4.5932e-02,  3.3473e-01,  3.0338e-02,  1.9006e-01,\n",
       "         -7.4424e-01, -6.2147e-01,  1.0637e-01, -4.4457e-01, -2.2575e-01,\n",
       "         -8.9592e-02, -4.3492e-01, -3.7914e-02, -5.7275e-01, -8.6920e-01,\n",
       "          2.2201e-01,  5.2262e-01, -2.1334e-01,  3.5553e-01, -3.9271e-02,\n",
       "         -1.5388e-02, -6.8094e-01,  2.8797e-01, -3.5601e-01, -3.2038e-01,\n",
       "         -4.2639e-02, -1.5817e-01, -9.7811e-01, -8.0342e-01, -1.9465e-01,\n",
       "          6.0866e-01, -2.8846e-01, -3.9827e-02, -3.9155e-01, -1.8197e-02,\n",
       "         -7.6056e-01, -3.4742e-01,  3.2052e-01, -3.5247e-01, -8.7206e-01,\n",
       "          1.0139e+00, -6.0379e-01, -9.9967e-01, -3.9774e-02, -3.8887e-01,\n",
       "          2.5508e-01, -3.8452e-01, -3.2984e-02, -5.8198e-01, -3.2430e-01,\n",
       "         -8.3038e-02, -1.7649e-01,  6.8163e-01,  7.3631e-01, -4.8466e-01,\n",
       "         -3.6978e-01, -8.6214e-01,  4.6410e-01,  3.9925e-01,  2.8768e-01,\n",
       "          1.9155e-01, -3.9436e-02, -1.5777e-03,  5.0452e-01, -7.0120e-02,\n",
       "          1.3582e-01, -1.1107e-01, -5.1382e-01,  4.6624e-01, -3.1821e-01,\n",
       "         -3.4533e-02, -3.5378e-01,  8.6306e-01, -1.2960e+00, -2.0329e-01,\n",
       "          6.1445e-01, -1.5200e-02, -3.1927e-02, -4.3494e-01, -6.2253e-02,\n",
       "         -4.7382e-01, -3.7034e-01,  2.8681e-01,  5.0143e-01,  9.4745e-01,\n",
       "         -2.7642e-01, -1.2462e-01,  2.2719e-01, -7.8621e-01,  2.9063e-01,\n",
       "         -2.0788e-02,  1.0557e-01,  6.4669e-02, -7.1199e-01, -1.3454e-01,\n",
       "         -8.1131e-02,  2.9531e-01,  7.3292e-01, -2.1859e-01, -1.4223e-02,\n",
       "          6.5710e-01,  6.0591e-01,  4.6780e-01, -1.1160e+00,  8.8321e-02,\n",
       "          8.2746e-02,  6.1754e-01, -3.1655e-01, -9.3762e-01, -5.1280e-02,\n",
       "          1.5776e-01, -3.0101e-01,  1.8531e-01,  3.6827e-01, -2.0551e-01,\n",
       "         -4.9883e-02, -7.7635e-02, -8.9617e-02, -2.9647e-01,  8.7295e-01,\n",
       "         -3.5459e-01,  3.3311e-01,  7.3996e-01,  1.8597e-01, -4.8729e-01,\n",
       "          2.9231e-01,  3.7115e-01, -4.6873e-01,  4.4837e-02, -4.8253e-01,\n",
       "         -2.4048e-01,  9.2933e-02,  2.3778e-01,  2.4334e-01,  5.7038e-02,\n",
       "         -2.2701e-01,  6.3961e-01, -1.7395e-01, -6.9064e-01,  6.3804e-01,\n",
       "          8.5232e-02,  3.7351e-01,  2.7504e-01, -2.5001e-01,  4.3224e-01,\n",
       "         -1.9437e-01, -8.4354e-01, -5.4949e-01, -8.1408e-01, -2.6177e-01,\n",
       "          7.7962e-01,  2.0333e-01, -1.8313e-01, -5.6686e-02, -3.2105e-02,\n",
       "          3.9516e-01, -1.4375e-01, -2.2444e-01, -3.0870e-02, -2.7815e-01,\n",
       "          1.2641e+00, -4.7086e-01, -1.9880e-01,  1.0907e-02, -1.9589e-01,\n",
       "         -2.3842e-01,  2.9151e-02, -2.6337e-01,  4.5350e-02,  8.6196e-01,\n",
       "         -8.5492e-01,  1.4028e-01, -5.4176e-02, -9.3050e-01,  4.8138e-02,\n",
       "         -8.3112e-01, -1.6006e-01, -1.4033e-01, -3.1821e-01, -1.9804e-01,\n",
       "          3.9092e-01, -9.9971e-01, -4.5917e-01,  8.0840e-02, -2.7909e-01,\n",
       "         -8.1927e-01,  5.1875e-01,  5.3351e-02, -8.2452e-01,  2.7728e-01,\n",
       "          3.4165e-01, -6.4958e-02, -9.5064e-02, -3.3151e-01,  1.9068e-01,\n",
       "         -3.8410e-02,  6.9561e-01,  5.2297e-01, -2.0154e-01,  5.9571e-01,\n",
       "         -4.3475e-01, -1.0921e-01, -2.5317e-01,  6.5338e-01,  2.3431e-02,\n",
       "         -6.0162e-01, -8.5439e-01, -1.0857e-01,  1.1068e-01, -2.6444e-01,\n",
       "         -3.5955e-01,  2.0925e-03,  7.5808e-01, -4.6492e-01, -2.5477e-01,\n",
       "         -4.7551e-02,  4.1874e-02, -4.6176e-01, -9.9409e-02,  3.2916e-01,\n",
       "          2.1738e-01,  3.3853e-01,  1.5134e-01, -5.0993e-01, -8.6934e-01,\n",
       "          1.1568e-01, -2.6631e-01, -4.7192e-01,  2.7417e-01, -5.0967e-01,\n",
       "         -1.8880e-01, -1.2378e-01,  5.7082e-03,  3.5446e-01,  1.7005e-02,\n",
       "         -6.3829e-01, -5.7405e-02,  2.3975e-01,  7.6436e-01, -2.2905e-01,\n",
       "         -2.1372e-02,  5.2323e-01,  1.9640e-01,  1.5169e-01, -7.7382e-01,\n",
       "          9.1651e-01, -8.5063e-02,  9.5206e-02,  3.0176e-01,  1.5329e-01,\n",
       "         -7.4156e-01, -4.3910e-01,  1.7066e-01, -3.8821e-01, -3.9050e-01,\n",
       "         -8.5466e-01, -4.8161e-01, -4.7201e-01,  7.4396e-01, -4.6197e-01,\n",
       "         -1.1323e-01, -8.0465e-01,  7.7411e-01,  3.4852e-01,  4.0721e-01,\n",
       "         -2.2626e-01,  2.8622e-01, -1.4000e+00, -1.9297e-01,  1.2441e+00,\n",
       "         -5.6650e-01,  1.0991e+00, -8.5040e-01, -2.5879e-01,  1.0857e-01,\n",
       "         -1.1008e-01, -6.4560e-01, -9.1571e-01, -1.5939e-01,  5.6716e-01,\n",
       "          3.3780e-01, -2.1689e-01, -9.3351e-02, -8.5456e-01,  8.5461e-01,\n",
       "         -9.4955e-02, -2.2529e-01, -4.4917e-03, -5.6741e-01,  3.5879e-01,\n",
       "          5.5945e-01, -3.1341e-02,  3.0403e-01,  2.0608e-01,  3.9710e-01,\n",
       "         -4.1201e-02, -1.7549e-01, -1.5027e-01, -2.4375e-01, -2.7443e-01,\n",
       "         -7.7542e-01,  1.9543e-02,  8.6821e-01, -3.8534e-01, -5.0210e-01,\n",
       "          4.0494e-02, -5.8711e-01, -1.6854e-01,  5.0953e-01,  8.9254e-01,\n",
       "         -3.3138e-01, -3.2588e-01,  3.0151e-01,  4.3742e-01, -7.1327e-01,\n",
       "         -7.8154e-01,  5.9496e-01, -4.4703e-01,  1.1482e-01, -4.6498e-01,\n",
       "          3.2812e-01, -2.8349e-01, -8.9855e-02,  1.4912e-01, -6.4875e-01,\n",
       "         -1.2963e-01, -7.0906e-01, -3.6914e-01,  3.3186e-01, -6.3000e-01,\n",
       "          1.3276e-01,  4.2807e-01,  9.3109e-01, -2.7010e-01, -6.7938e-01,\n",
       "         -3.6635e-01,  7.8060e-02,  6.3263e-02, -2.3584e-01, -5.8915e-01,\n",
       "          5.3082e-01, -5.3805e-01,  3.8391e-01, -3.1323e-01,  4.0134e-01,\n",
       "         -1.5978e-02,  2.6575e-01,  3.2255e-01, -3.6491e-02,  4.0711e-01,\n",
       "         -2.9607e-02,  1.4473e-05,  5.6004e-01, -1.9606e-01, -9.7907e-01,\n",
       "         -3.0234e-02, -4.0201e-01, -8.5268e-01, -2.2494e-01,  3.6490e-02,\n",
       "          4.0542e-01,  5.0359e-01,  6.9814e-01, -6.4127e-02,  6.5494e-02,\n",
       "         -1.7063e-01, -1.5385e-01, -4.2742e-01,  3.1374e-01, -2.8614e-01,\n",
       "         -5.3266e-01, -1.0312e+00,  6.8860e-02,  1.1989e+00, -1.7246e-01,\n",
       "         -4.5179e-01, -6.8246e-01, -2.7442e-01,  9.0001e-01,  3.1154e-01,\n",
       "         -3.2783e-01, -4.6119e-01,  1.2175e-02,  2.5227e-01,  3.6725e-01,\n",
       "         -2.1464e-01, -3.8697e-01, -1.3439e-01,  4.8476e-01,  8.5032e-02,\n",
       "          1.4374e-01, -5.3840e-02,  4.0794e-01, -1.2124e-01,  1.5488e-02,\n",
       "         -2.9226e-01, -3.3614e-01, -2.2056e-01, -5.7492e-01, -5.8055e-01,\n",
       "          3.9074e-01,  3.6818e-01,  1.0965e+00, -4.9123e-01, -1.9129e-01,\n",
       "          3.7244e-02,  3.6771e-01,  2.2620e-01, -2.2411e-01,  2.1018e-01,\n",
       "         -5.3406e-01, -7.6729e-01,  1.6350e-01,  8.6820e-02,  4.7770e-01,\n",
       "         -6.7613e-01,  4.9083e-01, -2.8085e-01,  1.1365e-01, -3.8102e-01,\n",
       "          6.7879e-01, -2.8319e-02,  4.7186e-02, -1.7876e-01, -4.7339e-01,\n",
       "          3.8253e-01,  2.6738e-01,  4.4619e-01, -1.7286e-01,  2.2127e-02,\n",
       "         -8.4023e-01,  4.5893e-01,  9.6074e-02,  5.0234e-01, -4.3755e-01,\n",
       "         -3.0249e-01, -6.3581e-02,  7.2018e-02, -5.8123e-01, -5.5584e-02,\n",
       "          1.5775e-01, -2.1616e-01, -1.7665e-01, -3.0198e-01,  2.3731e-01,\n",
       "          5.1379e-02, -2.4828e-01,  2.7541e-01, -6.8604e-02,  3.7249e-01,\n",
       "         -2.0025e-01, -1.8195e-01, -2.0764e-01, -9.5520e-01, -2.3570e-01,\n",
       "         -2.9542e-01,  5.2598e-02,  8.4953e-01,  4.3618e-01,  1.0183e-01,\n",
       "         -3.3904e-01, -3.7202e-01,  5.7825e-01,  2.6896e-01,  1.1499e-01,\n",
       "         -1.0978e-01, -4.1816e-01,  6.9004e-02, -1.7553e-01, -9.9385e-01,\n",
       "          2.4932e-01,  7.1267e-01, -4.1139e-01, -4.4354e-01,  3.5945e-01,\n",
       "          1.6769e-01,  1.1920e-01, -9.8218e-02, -5.9282e-01, -2.3735e-01,\n",
       "          4.3532e-01, -2.3083e-01,  2.6680e-02,  9.5526e-01, -2.6984e-01,\n",
       "          6.9125e-01, -2.5176e-01, -2.0580e-01,  7.7527e-02, -3.4230e-01,\n",
       "         -7.8060e-01, -6.9264e-01, -1.9692e-01, -1.9736e-01,  2.8073e-02,\n",
       "         -6.7313e-01,  6.5558e-01, -1.4530e+00,  5.7883e-01,  4.5878e-02,\n",
       "          5.6919e-01,  4.1313e-01,  1.3315e-01,  4.6684e-01,  1.2576e+00,\n",
       "          3.3532e-01, -6.4777e-01,  1.6556e-02, -3.2570e-01, -6.8495e-01,\n",
       "         -6.8855e-01, -3.8130e-01, -7.2737e-02, -6.0965e-01, -9.1884e-01,\n",
       "          7.2735e-01, -9.2692e-01,  3.1798e-01, -1.2555e-01, -3.0102e-01,\n",
       "          8.4558e-01, -2.2733e-01,  9.4549e-01, -6.7208e-01, -5.0179e-01,\n",
       "         -4.5743e-01, -3.7071e-01,  8.8844e-01,  3.8378e-01, -3.4571e-02,\n",
       "         -5.0690e-01,  4.0464e-01,  1.4970e-01,  6.2299e-01,  3.3801e-01,\n",
       "          1.5235e-01,  3.8617e-01,  3.1966e-01,  7.9931e-01, -1.6215e-01,\n",
       "          7.4888e-01,  6.2718e-01, -3.5696e-01,  2.3667e-01, -3.4260e-01,\n",
       "         -1.1605e+00,  6.1979e-01, -4.1410e-01,  3.8852e-01,  8.5205e-01,\n",
       "         -5.0664e-01,  3.5954e-01,  1.2330e-01,  4.3089e-01,  4.3544e-02,\n",
       "          1.5067e-02, -9.1367e-02, -8.3140e-02,  1.0927e+00, -1.2129e-02,\n",
       "          2.0633e-01,  8.0314e-01,  7.2516e-01,  2.9830e-01, -4.8020e-01,\n",
       "          2.6989e-01,  4.9179e-01,  3.5524e-01,  3.3420e-02,  3.6037e-01,\n",
       "         -3.5779e-01,  9.5504e-03,  5.0279e-01, -9.0991e-01, -3.7062e-01,\n",
       "          3.7757e-01, -4.2513e-01, -7.3426e-02,  8.5505e-03,  4.5214e-01,\n",
       "         -3.2534e-01, -1.9788e-01, -2.2243e-01,  1.6581e-01,  4.4579e-01,\n",
       "          1.7891e-01,  1.4739e-01,  1.3968e-01, -4.2726e-01, -5.8148e-02,\n",
       "          1.6983e-01, -9.2675e-03, -1.3886e-01, -8.2260e-01, -3.9559e-02,\n",
       "          9.6946e-01, -1.1972e+00, -3.2125e-01,  1.0604e+00,  1.4600e-01,\n",
       "          7.0986e-01, -3.7793e-01,  2.7170e-01, -5.2672e-01,  7.2839e-01,\n",
       "         -2.2795e-01, -7.8448e-01,  3.6883e-01,  1.0921e+00, -6.8726e-01,\n",
       "          2.7634e-02, -6.5213e-01, -3.1355e-01,  2.8247e-01,  3.5288e-01,\n",
       "          4.4321e-01,  4.5845e-01,  2.8008e-01,  6.0740e-01, -4.0921e-01,\n",
       "          1.7121e-01, -3.2452e-02, -5.0149e-01, -3.1987e-01,  2.0542e-01,\n",
       "          3.7952e-01, -1.9077e-01, -1.0373e+00, -4.7299e-01, -4.4204e-01,\n",
       "          2.5203e-03,  3.1454e-01,  3.4827e-02,  1.1191e+00,  1.0061e+00,\n",
       "          3.9337e-01,  4.5017e-01, -1.1161e+00,  3.3929e-01,  8.8732e-01,\n",
       "          1.0079e-01, -9.6401e-01, -5.2248e-01,  1.1129e-01,  3.2696e-01,\n",
       "          6.7480e-01,  3.9433e-01, -3.4394e-01, -2.3431e-01, -5.5109e-01,\n",
       "         -1.2094e+00,  1.5280e-01, -8.3589e-02, -4.0830e-01, -3.0446e-02,\n",
       "          6.0414e-01,  9.1987e-03,  3.7729e-01, -5.6333e-01, -7.4008e-01,\n",
       "         -7.3325e-02, -9.2211e-01, -3.6179e-01,  9.1962e-01,  8.4418e-01,\n",
       "          6.4323e-01, -1.5001e-02,  6.6619e-02,  8.6754e-01,  5.6447e-01,\n",
       "          1.0371e-01,  2.9763e-01, -3.5182e-01, -2.5151e-01,  7.7568e-02,\n",
       "          4.5627e-01,  2.6017e-01, -1.8411e-01, -8.3861e-01,  5.4049e-01,\n",
       "         -6.5712e-01, -1.8630e-01, -3.6081e-01, -9.2441e-01,  6.6658e-01,\n",
       "          1.0434e-01, -5.4883e-01,  7.1447e-02,  1.9706e-01, -3.2175e-01,\n",
       "          8.5613e-01,  2.0858e-01, -3.1142e-01, -1.1370e-01,  3.6995e-01,\n",
       "          3.2281e-01,  1.0916e-01,  3.1199e-01, -9.9297e-02, -4.0357e-01,\n",
       "          2.7719e-01,  1.2359e-01, -2.6006e-01, -5.8247e-01, -1.2220e-01,\n",
       "          4.7026e-01, -5.8554e-01,  3.3472e-01,  6.4744e-01, -1.4497e+00,\n",
       "          5.2249e-01,  7.0721e-01, -6.6274e-01, -3.3606e-01,  3.4538e-03,\n",
       "          5.4209e-01, -1.3895e-01,  1.9808e-01,  3.5694e-01, -3.3018e-01,\n",
       "          8.4091e-02, -6.8599e-01,  3.2436e-01,  6.9304e-02,  1.1583e+00,\n",
       "         -3.0290e-01,  1.3828e-01, -9.1960e-01,  1.6024e-01,  1.5442e-01,\n",
       "         -3.0487e-01,  4.2227e-02,  3.2493e-01, -1.3925e-02, -7.3045e-01,\n",
       "          4.6172e-01, -2.2847e-01,  4.9543e-01,  1.2462e-01,  4.6005e-01,\n",
       "          2.1774e-01, -1.8195e-01, -2.7080e-01,  4.6894e-01, -6.6274e-01,\n",
       "         -1.7122e-01, -3.7373e-01,  4.2993e-01, -1.9338e-01,  1.1179e-02,\n",
       "         -1.5614e-01,  5.3384e-02,  9.0041e-01,  1.8924e-01,  4.0589e-02,\n",
       "         -4.4806e-01, -2.7673e-01, -1.1947e+00,  1.7851e-01, -3.0289e-01,\n",
       "          2.3311e-02,  6.0121e-02,  2.4858e-01, -4.0897e-01, -2.0840e-01,\n",
       "          1.3799e-01,  7.5381e-01,  3.9236e-01, -7.3961e-02, -3.9956e-01,\n",
       "          6.3527e-01,  3.0712e-01,  1.2584e-01,  2.8366e-02, -1.3478e-01,\n",
       "          4.9874e-01,  3.5416e-01,  2.9384e-01,  6.6952e-01,  5.7751e-01,\n",
       "         -5.7850e-01, -9.1932e-03, -1.7732e-01, -8.7486e-01,  1.2775e-01,\n",
       "         -5.2302e-01, -2.7054e-01, -8.1010e-04,  1.1061e-02,  3.8311e-02,\n",
       "         -4.4358e-01,  3.2355e-01, -4.1867e-02,  8.0826e-01,  6.2119e-01,\n",
       "          2.8679e-01, -3.6339e-01,  7.2605e-01, -4.0117e-01, -3.7295e-01,\n",
       "         -3.2833e-01,  1.7512e-01, -2.7768e-01,  2.9670e-01,  4.6403e-01,\n",
       "         -3.9332e-01, -5.2190e-01,  2.8439e-01, -7.7172e-02, -1.8207e-01,\n",
       "          1.2446e-01, -3.0409e-01,  4.7988e-02,  4.6324e-01, -1.6922e-01,\n",
       "          6.0739e-01,  3.5231e-01,  3.4345e-01,  1.0965e+00, -5.4755e-01,\n",
       "          6.9044e-02,  2.7191e-01,  1.0745e-01,  6.3188e-02, -6.3766e-02,\n",
       "         -1.7316e-01,  3.3071e-01,  1.8091e-01, -1.3749e-01,  1.3723e-01,\n",
       "         -3.9044e-01,  5.7779e-01,  8.0222e-01, -4.6986e-01, -5.4605e-01,\n",
       "         -2.7557e-01,  3.9562e-01, -2.4207e-01,  5.7596e-01,  4.1777e-01,\n",
       "         -5.7367e-01, -3.7420e-01,  5.5610e-01,  5.9694e-01, -6.0319e-02,\n",
       "          1.9841e-01,  5.5574e-01,  6.7687e-01, -1.1401e+00,  8.2036e-02,\n",
       "         -1.0842e+00,  6.6928e-02, -7.8428e-01,  1.4348e-01,  5.2228e-01,\n",
       "         -4.7345e-01,  3.4797e-01, -4.4308e-01, -9.2102e-01, -2.9996e-01,\n",
       "         -6.2010e-02, -2.8857e-01,  8.9510e-02, -6.3164e-02, -2.3187e-01,\n",
       "         -3.8409e-01, -6.7273e-02,  5.3996e-01, -1.4060e+00, -7.2983e-01,\n",
       "          1.9649e-01,  2.5328e-02, -1.0413e+00, -5.9635e-01, -2.9889e-01,\n",
       "          4.8141e-01, -5.1022e-02, -9.2647e-01,  7.4915e-01, -5.2852e-01,\n",
       "         -7.4834e-02,  7.0885e-01,  1.5560e-01,  4.0779e-01, -6.3293e-02,\n",
       "          6.2494e-01, -1.3488e+00,  4.6922e-01, -6.2484e-01,  3.1363e-01,\n",
       "          3.3243e-01,  7.4310e-01, -8.7666e-01,  5.8342e-02, -7.3177e-01,\n",
       "         -5.2477e-01,  1.4186e-01,  3.8754e-02, -1.2140e+00, -6.0291e-01,\n",
       "          3.6250e-01,  3.3759e-01,  6.5050e-01, -1.8098e-01,  6.5531e-02,\n",
       "         -1.4886e-01, -3.0903e-01,  6.9135e-02, -5.9103e-01, -5.1099e-02,\n",
       "         -5.7844e-01,  9.4805e-01,  1.3578e-01, -3.1020e-02,  1.4240e-01,\n",
       "          3.6269e-01,  7.3982e-01, -1.0700e-01,  1.1000e+00, -2.2903e-01,\n",
       "         -1.0461e-01,  2.3894e-01, -3.6513e-01, -6.7520e-01,  2.6560e-02,\n",
       "          8.9065e-01, -2.4860e-01,  2.3031e-01,  3.4102e-01, -1.8073e-01,\n",
       "          6.2114e-01, -3.3204e-01, -4.5935e-01, -1.8778e-01, -1.5855e-01,\n",
       "         -4.7587e-01,  1.0638e+00, -1.0142e+00,  9.8812e-02,  7.2453e-01,\n",
       "          4.1528e-01,  1.8626e-01,  5.3232e-02, -1.7705e-01,  3.8079e-01,\n",
       "         -5.5002e-02,  1.2062e+00, -8.8677e-02, -3.9644e-01, -8.9471e-01,\n",
       "          7.2758e-01,  1.5184e-01, -3.1627e-01, -7.9685e-01,  1.6636e-01,\n",
       "          3.7743e-01,  9.6344e-01,  5.6618e-02, -4.9235e-01, -6.8659e-01,\n",
       "         -4.9182e-01,  5.4408e-01,  2.4205e-01, -4.1826e-01, -1.2850e-02,\n",
       "         -3.6118e-01,  1.6981e-01, -4.9093e-02, -3.5674e-01, -3.4634e-02,\n",
       "         -2.3818e-01,  1.1164e-01,  4.0096e-01,  7.1078e-01,  3.6467e-01,\n",
       "          3.7111e-01, -5.4987e-01,  5.3881e-01,  1.4210e-01,  5.8159e-02,\n",
       "         -1.2592e-01,  1.5369e-02, -1.5119e-02, -7.4593e-01,  7.6125e-01,\n",
       "          6.7661e-02,  2.6665e-01,  6.5128e-01,  6.5344e-02,  4.4654e-01,\n",
       "         -6.8316e-01, -6.4957e-01, -1.6546e-01,  9.2531e-01,  1.6461e-01]],\n",
       "       grad_fn=<AddmmBackward>)"
      ]
     },
     "execution_count": 8,
     "metadata": {},
     "output_type": "execute_result"
    }
   ],
   "source": [
    "def print_hook(self, module, inp, outp):\n",
    "    print('Shape input is {0}'.format(inp.shape))\n",
    "\n",
    "# применяем хук при прямом проходе, сохраняем ссылку на объект хука\n",
    "model(torch.rand([1, 3, 224, 224]))\n",
    "hook_ref = model.fc.register_forward_hook(print_hook)\n",
    "hook_ref.remove() # убираем хук\n",
    "model(torch.rand([1, 3, 224, 224]))"
   ]
  },
  {
   "cell_type": "markdown",
   "metadata": {},
   "source": [
    "#### Хуки для tensorboard для получения статистики"
   ]
  },
  {
   "cell_type": "code",
   "execution_count": 9,
   "metadata": {},
   "outputs": [
    {
     "name": "stdout",
     "output_type": "stream",
     "text": [
      "Downloading http://yann.lecun.com/exdb/mnist/train-images-idx3-ubyte.gz to mnist_train/MNIST/raw/train-images-idx3-ubyte.gz\n"
     ]
    },
    {
     "data": {
      "application/vnd.jupyter.widget-view+json": {
       "model_id": "d128238633d94443810a2d59c5acd2f5",
       "version_major": 2,
       "version_minor": 0
      },
      "text/plain": [
       "HBox(children=(FloatProgress(value=1.0, bar_style='info', layout=Layout(width='20px'), max=1.0), HTML(value=''…"
      ]
     },
     "metadata": {},
     "output_type": "display_data"
    },
    {
     "name": "stdout",
     "output_type": "stream",
     "text": [
      "Extracting mnist_train/MNIST/raw/train-images-idx3-ubyte.gz to mnist_train/MNIST/raw\n",
      "Downloading http://yann.lecun.com/exdb/mnist/train-labels-idx1-ubyte.gz to mnist_train/MNIST/raw/train-labels-idx1-ubyte.gz\n"
     ]
    },
    {
     "data": {
      "application/vnd.jupyter.widget-view+json": {
       "model_id": "1305fde5bc6545b3b7bdd6b2e6c1f56a",
       "version_major": 2,
       "version_minor": 0
      },
      "text/plain": [
       "HBox(children=(FloatProgress(value=1.0, bar_style='info', layout=Layout(width='20px'), max=1.0), HTML(value=''…"
      ]
     },
     "metadata": {},
     "output_type": "display_data"
    },
    {
     "name": "stdout",
     "output_type": "stream",
     "text": [
      "Extracting mnist_train/MNIST/raw/train-labels-idx1-ubyte.gz to mnist_train/MNIST/raw\n",
      "Downloading http://yann.lecun.com/exdb/mnist/t10k-images-idx3-ubyte.gz to mnist_train/MNIST/raw/t10k-images-idx3-ubyte.gz\n"
     ]
    },
    {
     "data": {
      "application/vnd.jupyter.widget-view+json": {
       "model_id": "08df1438b3a948959b09d78ccc517633",
       "version_major": 2,
       "version_minor": 0
      },
      "text/plain": [
       "HBox(children=(FloatProgress(value=1.0, bar_style='info', layout=Layout(width='20px'), max=1.0), HTML(value=''…"
      ]
     },
     "metadata": {},
     "output_type": "display_data"
    },
    {
     "name": "stdout",
     "output_type": "stream",
     "text": [
      "Extracting mnist_train/MNIST/raw/t10k-images-idx3-ubyte.gz to mnist_train/MNIST/raw\n",
      "Downloading http://yann.lecun.com/exdb/mnist/t10k-labels-idx1-ubyte.gz to mnist_train/MNIST/raw/t10k-labels-idx1-ubyte.gz\n"
     ]
    },
    {
     "data": {
      "application/vnd.jupyter.widget-view+json": {
       "model_id": "f717eba6952e49a290a33d265bd374c0",
       "version_major": 2,
       "version_minor": 0
      },
      "text/plain": [
       "HBox(children=(FloatProgress(value=1.0, bar_style='info', layout=Layout(width='20px'), max=1.0), HTML(value=''…"
      ]
     },
     "metadata": {},
     "output_type": "display_data"
    },
    {
     "name": "stdout",
     "output_type": "stream",
     "text": [
      "Extracting mnist_train/MNIST/raw/t10k-labels-idx1-ubyte.gz to mnist_train/MNIST/raw\n",
      "Processing...\n",
      "Done!\n",
      "\n",
      "\n",
      "\n"
     ]
    },
    {
     "name": "stderr",
     "output_type": "stream",
     "text": [
      "/opt/conda/conda-bld/pytorch_1591914855613/work/torch/csrc/utils/tensor_numpy.cpp:141: UserWarning: The given NumPy array is not writeable, and PyTorch does not support non-writeable tensors. This means you can write to the underlying (supposedly non-writeable) NumPy array using the tensor. You may want to copy the array to protect its data or make it writeable before converting it to a tensor. This type of warning will be suppressed for the rest of this program.\n"
     ]
    }
   ],
   "source": [
    "transform = transforms.Compose(\n",
    "    [transforms.ToTensor(),\n",
    "     transforms.Normalize((0.5,), (0.5,))]\n",
    ")\n",
    "trainset = datasets.MNIST(\"mnist_train\", train=True, download=True, transform=transform)\n",
    "train_data_loader = torch.utils.data.DataLoader(trainset, batch_size=64, shuffle=True)\n",
    "model = torchvision.models.resnet50(False)"
   ]
  },
  {
   "cell_type": "code",
   "execution_count": 10,
   "metadata": {},
   "outputs": [],
   "source": [
    "model.conv1 = torch.nn.Conv2d(1, 64, kernel_size=7, stride=2, padding=3, bias=False)\n",
    "images, labels = next(iter(train_data_loader))"
   ]
  },
  {
   "cell_type": "code",
   "execution_count": 11,
   "metadata": {},
   "outputs": [],
   "source": [
    "grid = torchvision.utils.make_grid(images)\n",
    "writer.add_image(\"images\", grid, 0)\n",
    "writer.add_graph(model, images)"
   ]
  },
  {
   "cell_type": "code",
   "execution_count": 12,
   "metadata": {},
   "outputs": [],
   "source": [
    "def send_stats(i, module, input, output):\n",
    "    writer.add_scalar(f\"layer {i}-mean\", output.data.mean())\n",
    "    writer.add_scalar(f\"layer {i}-stddev\", output.data.std())\n",
    "\n",
    "\n",
    "for i, m in enumerate(model.children()):\n",
    "    m.register_forward_hook(partial(send_stats, i))"
   ]
  },
  {
   "cell_type": "code",
   "execution_count": 13,
   "metadata": {},
   "outputs": [
    {
     "name": "stdout",
     "output_type": "stream",
     "text": [
      "epoch 1\n",
      "Epoch 1, accuracy = 0.88\n",
      "epoch 2\n",
      "Epoch 2, accuracy = 0.98\n",
      "epoch 3\n",
      "Epoch 3, accuracy = 0.95\n",
      "epoch 4\n",
      "Epoch 4, accuracy = 0.97\n",
      "epoch 5\n",
      "Epoch 5, accuracy = 0.98\n"
     ]
    }
   ],
   "source": [
    "# Now train the model and watch output in Tensorboard\n",
    "\n",
    "optimizer = optim.Adam(model.parameters(), lr=2e-2)\n",
    "criterion = nn.CrossEntropyLoss()\n",
    "\n",
    "\n",
    "def train(\n",
    "    model, optimizer, loss_fn, train_loader, val_loader, epochs=20, device=\"cuda:0\"\n",
    "):\n",
    "    model.to(device)\n",
    "    for epoch in range(epochs):\n",
    "        print(f\"epoch {epoch+1}\")\n",
    "        model.train()\n",
    "        for batch in train_loader:\n",
    "            optimizer.zero_grad()\n",
    "            ww, target = batch\n",
    "            ww = ww.to(device)\n",
    "            target = target.to(device)\n",
    "            output = model(ww)\n",
    "            loss = loss_fn(output, target)\n",
    "            loss.backward()\n",
    "            optimizer.step()\n",
    "\n",
    "        model.eval()\n",
    "        num_correct = 0\n",
    "        num_examples = 0\n",
    "        for batch in val_loader:\n",
    "            ww, target = batch\n",
    "            ww = ww.to(device)\n",
    "            target = target.to(device)\n",
    "            output = model(ww)\n",
    "            correct = torch.eq(torch.max(output, dim=1)[1], target).view(-1)\n",
    "            num_correct += torch.sum(correct).item()\n",
    "            num_examples += correct.shape[0]\n",
    "        print(\"Epoch {}, accuracy = {:.2f}\".format(epoch+1, num_correct / num_examples))\n",
    "\n",
    "\n",
    "train(model, optimizer, criterion, train_data_loader, train_data_loader, epochs=5)"
   ]
  },
  {
   "cell_type": "code",
   "execution_count": null,
   "metadata": {},
   "outputs": [],
   "source": []
  }
 ],
 "metadata": {
  "kernelspec": {
   "display_name": "Python 3",
   "language": "python",
   "name": "python3"
  },
  "language_info": {
   "codemirror_mode": {
    "name": "ipython",
    "version": 3
   },
   "file_extension": ".py",
   "mimetype": "text/x-python",
   "name": "python",
   "nbconvert_exporter": "python",
   "pygments_lexer": "ipython3",
   "version": "3.7.7"
  }
 },
 "nbformat": 4,
 "nbformat_minor": 4
}
