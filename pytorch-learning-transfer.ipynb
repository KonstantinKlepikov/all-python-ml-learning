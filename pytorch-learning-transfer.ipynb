{
 "cells": [
  {
   "cell_type": "code",
   "execution_count": 1,
   "metadata": {},
   "outputs": [],
   "source": [
    "import torch\n",
    "import torch.nn as nn\n",
    "import torch.optim as optim\n",
    "import torch.utils.data\n",
    "import torch.nn.functional as F\n",
    "import torchvision\n",
    "import torchvision.models as models\n",
    "from torchvision import transforms\n",
    "from PIL import Image\n",
    "import matplotlib.pyplot as plt"
   ]
  },
  {
   "cell_type": "markdown",
   "metadata": {},
   "source": [
    "Возьмем готовый претренированный ResNet50"
   ]
  },
  {
   "cell_type": "code",
   "execution_count": 2,
   "metadata": {},
   "outputs": [],
   "source": [
    "transfer_model = models.resnet50(pretrained=True)"
   ]
  },
  {
   "cell_type": "markdown",
   "metadata": {},
   "source": [
    "Фризим слои, которые мы не хотим обновлять в дообучении. Для этого мы не даем накапливаться градиентам спмощью requires_grad() для всех параметров сети (доступны через метод paraneters())\n",
    "\n",
    "Кроме того, не будем фризить блоки BatchNorm чтобьы не терять данные на нормализации"
   ]
  },
  {
   "cell_type": "code",
   "execution_count": 3,
   "metadata": {},
   "outputs": [],
   "source": [
    "for name, param in transfer_model.named_parameters():\n",
    "    if(\"bn\" not in name):\n",
    "        param.requires_grad = False"
   ]
  },
  {
   "cell_type": "markdown",
   "metadata": {},
   "source": [
    "Заменим последний классификационный блок своим хвостом. В данном случае двумя линейными слоями, релу и дропаутом. Пайторч хранит последний блок как переменную экземпляра, поэтому ее можно переопределить.\n",
    "\n",
    "Переменная in_features позволяет захватывать несколько активаций, входящих в слой. Аналог для исходящих out_features. Они используются в случае, когда вход следующего слоя ожидает от выхода предыдущего одну размерность, а получает другую, что вызывает ошибку."
   ]
  },
  {
   "cell_type": "code",
   "execution_count": 4,
   "metadata": {},
   "outputs": [],
   "source": [
    "transfer_model.fc = nn.Sequential(nn.Linear(transfer_model.fc.in_features, 500), \n",
    "                                  nn.ReLU(), \n",
    "                                  nn.Dropout(), \n",
    "                                  nn.Linear(500, 2))"
   ]
  },
  {
   "cell_type": "markdown",
   "metadata": {},
   "source": [
    "## Обучение"
   ]
  },
  {
   "cell_type": "code",
   "execution_count": 5,
   "metadata": {},
   "outputs": [],
   "source": [
    "def train(model, optimizer, loss_fn, train_loader, val_loader, epochs=20, device=\"cpu\"):\n",
    "    for epoch in range(epochs):\n",
    "        training_loss = 0.0\n",
    "        valid_loss = 0.0\n",
    "        model.train()\n",
    "        for batch in train_loader:\n",
    "            optimizer.zero_grad()\n",
    "            inputs, targets = batch\n",
    "            inputs = inputs.to(device)\n",
    "            targets = targets.to(device)\n",
    "            output = model(inputs)\n",
    "            loss = loss_fn(output, targets)\n",
    "            loss.backward()\n",
    "            optimizer.step()\n",
    "            training_loss += loss.data.item() * inputs.size(0)\n",
    "        training_loss /= len(train_loader.dataset)\n",
    "        \n",
    "        model.eval()\n",
    "        num_correct = 0 \n",
    "        num_examples = 0\n",
    "        for batch in val_loader:\n",
    "            inputs, targets = batch\n",
    "            inputs = inputs.to(device)\n",
    "            output = model(inputs)\n",
    "            targets = targets.to(device)\n",
    "            loss = loss_fn(output,targets) \n",
    "            valid_loss += loss.data.item() * inputs.size(0)\n",
    "            correct = torch.eq(torch.max(F.softmax(output, dim=1), dim=1)[1], targets)\n",
    "            num_correct += torch.sum(correct).item()\n",
    "            num_examples += correct.shape[0]\n",
    "        valid_loss /= len(val_loader.dataset)\n",
    "\n",
    "        print('Epoch: {}, Training Loss: {:.2f}, Validation Loss: {:.2f}, accuracy = {:.2f}'.format(epoch, training_loss,\n",
    "        valid_loss, num_correct / num_examples))"
   ]
  },
  {
   "cell_type": "code",
   "execution_count": 6,
   "metadata": {},
   "outputs": [],
   "source": [
    "def check_image(path):\n",
    "    try:\n",
    "        im = Image.open(path)\n",
    "        return True\n",
    "    except:\n",
    "        return False\n",
    "img_transforms = transforms.Compose([\n",
    "    transforms.Resize((64,64)),    \n",
    "    transforms.ToTensor(),\n",
    "    transforms.Normalize(mean=[0.485, 0.456, 0.406],\n",
    "                    std=[0.229, 0.224, 0.225])\n",
    "    ])\n",
    "\n",
    "train_data_path = \"pytorch_learning/train/\"\n",
    "train_data = torchvision.datasets.ImageFolder(root=train_data_path,\n",
    "                                              transform=img_transforms, \n",
    "                                              is_valid_file=check_image)\n",
    "val_data_path = \"pytorch_learning/val/\"\n",
    "val_data = torchvision.datasets.ImageFolder(root=val_data_path,\n",
    "                                            transform=img_transforms, \n",
    "                                            is_valid_file=check_image)\n",
    "# не используем\n",
    "test_data_path = \"pytorch_learning/test/\"\n",
    "test_data = torchvision.datasets.ImageFolder(root=test_data_path, \n",
    "                                             transform=img_transforms, \n",
    "                                             is_valid_file=check_image)\n",
    "\n",
    "batch_size=64\n",
    "train_data_loader = torch.utils.data.DataLoader(train_data, \n",
    "                                                batch_size=batch_size,\n",
    "                                                shuffle=True)\n",
    "val_data_loader  = torch.utils.data.DataLoader(val_data, \n",
    "                                               batch_size=batch_size, \n",
    "                                               shuffle=True)\n",
    "test_data_loader = torch.utils.data.DataLoader(test_data, \n",
    "                                               batch_size=batch_size, \n",
    "                                               shuffle=True)\n",
    "\n",
    "if torch.cuda.is_available():\n",
    "    device = torch.device(\"cuda\") \n",
    "else:\n",
    "    device = torch.device(\"cpu\")"
   ]
  },
  {
   "cell_type": "code",
   "execution_count": 7,
   "metadata": {},
   "outputs": [],
   "source": [
    "transfer_model.to(device)\n",
    "optimizer = optim.Adam(transfer_model.parameters(), lr=0.001)"
   ]
  },
  {
   "cell_type": "code",
   "execution_count": 8,
   "metadata": {},
   "outputs": [
    {
     "name": "stdout",
     "output_type": "stream",
     "text": [
      "Epoch: 0, Training Loss: 0.58, Validation Loss: 0.33, accuracy = 0.84\n",
      "Epoch: 1, Training Loss: 0.17, Validation Loss: 0.24, accuracy = 0.89\n",
      "Epoch: 2, Training Loss: 0.07, Validation Loss: 0.22, accuracy = 0.93\n",
      "Epoch: 3, Training Loss: 0.02, Validation Loss: 0.46, accuracy = 0.84\n",
      "Epoch: 4, Training Loss: 0.02, Validation Loss: 0.34, accuracy = 0.92\n",
      "Epoch: 5, Training Loss: 0.01, Validation Loss: 0.56, accuracy = 0.85\n",
      "Epoch: 6, Training Loss: 0.01, Validation Loss: 0.35, accuracy = 0.91\n",
      "Epoch: 7, Training Loss: 0.04, Validation Loss: 0.34, accuracy = 0.91\n",
      "Epoch: 8, Training Loss: 0.05, Validation Loss: 0.60, accuracy = 0.86\n",
      "Epoch: 9, Training Loss: 0.06, Validation Loss: 0.28, accuracy = 0.94\n"
     ]
    }
   ],
   "source": [
    "train(transfer_model, \n",
    "      optimizer,\n",
    "      torch.nn.CrossEntropyLoss(), \n",
    "      train_data_loader,\n",
    "      val_data_loader, \n",
    "      epochs=10, \n",
    "      device=device)"
   ]
  },
  {
   "cell_type": "code",
   "execution_count": 9,
   "metadata": {},
   "outputs": [],
   "source": [
    "labels = ['cat','fish']\n",
    "def predictor(image_for_predict):\n",
    "    img = Image.open(image_for_predict) \n",
    "    img = img_transforms(img).to(device)\n",
    "    # сеть ожидает 4d тензор, т.к. используются пакеты \n",
    "    # (первое значение в тензоре - число изображений в пакете)\n",
    "    # т.к. у нас пакетов нет, создаем пакет длиной 1 с помощью unsqueeze(0)\n",
    "    # который добавляет новую размерность в начало тензора\n",
    "    img = img.unsqueeze(0)\n",
    "\n",
    "    prediction = F.softmax(transfer_model(img), dim=1)\n",
    "    prediction = prediction.argmax()\n",
    "    print(labels[prediction])"
   ]
  },
  {
   "cell_type": "code",
   "execution_count": 10,
   "metadata": {},
   "outputs": [
    {
     "name": "stdout",
     "output_type": "stream",
     "text": [
      "cat\n"
     ]
    }
   ],
   "source": [
    "# cat\n",
    "predictor(\"pytorch_learning/test/cat/2041806579_e4a7f31b32.jpg\")"
   ]
  },
  {
   "cell_type": "code",
   "execution_count": 11,
   "metadata": {},
   "outputs": [
    {
     "name": "stdout",
     "output_type": "stream",
     "text": [
      "fish\n"
     ]
    }
   ],
   "source": [
    "# fish\n",
    "predictor(\"pytorch_learning/test/fish/1609947018_bfa1fcd6b2.jpg\")"
   ]
  },
  {
   "cell_type": "code",
   "execution_count": 12,
   "metadata": {},
   "outputs": [
    {
     "name": "stdout",
     "output_type": "stream",
     "text": [
      "fish\n"
     ]
    }
   ],
   "source": [
    "# fish\n",
    "predictor(\"pytorch_learning/test/fish/2869804396_c4127ccec6.jpg\")"
   ]
  },
  {
   "cell_type": "markdown",
   "metadata": {},
   "source": [
    "## Вычисление скорости обучения\n",
    "\n",
    "Метод описан [тут](https://arxiv.org/abs/1506.01186) и предполагает, что в течении эпохи, скорость обучения начинается с небольшой, увеличивается с каждым минибачем, в итоге получается высокая в конце эпохи. Задача заключается в нахождении отношения скорости к потерям и затем в выборе такого показателя скорости, при котором происходит наибольшее снижение потерь (это можно сделать например визуально по графику)"
   ]
  },
  {
   "cell_type": "code",
   "execution_count": 13,
   "metadata": {},
   "outputs": [],
   "source": [
    "# упрощенный пример реализации метода в open.ai\n",
    "def find_lr(model, loss_fn, optimizer, train_loader, init_value=1e-8, final_value=10.0, device=\"cpu\"):\n",
    "    number_in_epoch = len(train_loader) - 1\n",
    "    update_step = (final_value / init_value) ** (1 / number_in_epoch)\n",
    "    lr = init_value\n",
    "    optimizer.param_groups[0][\"lr\"] = lr\n",
    "    best_loss = 0.0\n",
    "    batch_num = 0\n",
    "    losses = []\n",
    "    log_lrs = []\n",
    "    for data in train_loader:\n",
    "        batch_num += 1\n",
    "        inputs, targets = data\n",
    "        inputs = inputs.to(device)\n",
    "        targets = targets.to(device)\n",
    "        optimizer.zero_grad()\n",
    "        outputs = model(inputs)\n",
    "        loss = loss_fn(outputs, targets)\n",
    "\n",
    "        # Crash out if loss explodes\n",
    "\n",
    "        if batch_num > 1 and loss > 4 * best_loss:\n",
    "            if(len(log_lrs) > 20):\n",
    "                return log_lrs[10:-5], losses[10:-5]\n",
    "            else:\n",
    "                return log_lrs, losses\n",
    "\n",
    "        # Record the best loss\n",
    "\n",
    "        if loss < best_loss or batch_num == 1:\n",
    "            best_loss = loss\n",
    "\n",
    "        # Store the values\n",
    "        losses.append(loss.item())\n",
    "        log_lrs.append((lr))\n",
    "\n",
    "        # Do the backward pass and optimize\n",
    "\n",
    "        loss.backward()\n",
    "        optimizer.step()\n",
    "\n",
    "        # Update the lr for the next step and store\n",
    "\n",
    "        lr *= update_step\n",
    "        optimizer.param_groups[0][\"lr\"] = lr\n",
    "    if(len(log_lrs) > 20):\n",
    "        return log_lrs[10:-5], losses[10:-5]\n",
    "    else:\n",
    "        return log_lrs, losses"
   ]
  },
  {
   "cell_type": "code",
   "execution_count": 14,
   "metadata": {},
   "outputs": [
    {
     "data": {
      "image/png": "[encoded data removed]",
      "text/plain": [
       "<Figure size 432x288 with 1 Axes>"
      ]
     },
     "metadata": {
      "needs_background": "light"
     },
     "output_type": "display_data"
    }
   ],
   "source": [
    "(lrs, losses) = find_lr(transfer_model, \n",
    "                        torch.nn.CrossEntropyLoss(),\n",
    "                        optimizer, \n",
    "                        train_data_loader,\n",
    "                        device=device)\n",
    "plt.plot(lrs, losses)\n",
    "\n",
    "plt.xscale(\"log\")\n",
    "plt.xlabel(\"Learning rate\")\n",
    "plt.ylabel(\"Loss\")\n",
    "plt.show()"
   ]
  },
  {
   "cell_type": "markdown",
   "metadata": {},
   "source": [
    "**Функция фактически обучает модель и связана с настройками оптимизатора. Поэтому необходимо предварительно сохранить и перегрузить модель, чтобы вернуться в состояние, в котором она находилась до вызова find_lr(). Кроме того придется повторно инициализировать оптимизатор.**"
   ]
  },
  {
   "cell_type": "markdown",
   "metadata": {},
   "source": [
    "## Дифференциальная скорость обучения\n",
    "\n",
    "Можно дообучить слои предобученной сети, не используя обучение слоев с нуля. Для этого в pytorch можно задать специфическую скорость обучения для этих слоев и разморозитиь их.\n",
    "\n",
    "В данном случае сделаем это с последним и предпоследним слоем перед добавленным нами классификатором"
   ]
  },
  {
   "cell_type": "code",
   "execution_count": 17,
   "metadata": {},
   "outputs": [],
   "source": [
    "# базируемся на вычисленной скорости обучения \n",
    "# (на самом деле сетья не перегружал и выбрал значение на шару - просто лемонстрация)\n",
    "found_lr = 1e-7\n",
    "optimizer = optim.Adam([\n",
    "    {'params': transfer_model.layer4.parameters(), 'lr': found_lr/3},\n",
    "    {'params': transfer_model.layer3.parameters(), 'lr': found_lr/9}\n",
    "], lr= found_lr)"
   ]
  },
  {
   "cell_type": "code",
   "execution_count": 18,
   "metadata": {},
   "outputs": [],
   "source": [
    "unfreeze_layers = [transfer_model.layer3, transfer_model.layer4]\n",
    "for layer in unfreeze_layers:\n",
    "    for param in layer.parameters():\n",
    "        param.requires_grad = True"
   ]
  },
  {
   "cell_type": "code",
   "execution_count": 19,
   "metadata": {},
   "outputs": [
    {
     "name": "stdout",
     "output_type": "stream",
     "text": [
      "Epoch: 0, Training Loss: 0.02, Validation Loss: 0.27, accuracy = 0.94\n",
      "Epoch: 1, Training Loss: 0.02, Validation Loss: 0.29, accuracy = 0.94\n",
      "Epoch: 2, Training Loss: 0.02, Validation Loss: 0.28, accuracy = 0.94\n",
      "Epoch: 3, Training Loss: 0.01, Validation Loss: 0.28, accuracy = 0.94\n",
      "Epoch: 4, Training Loss: 0.02, Validation Loss: 0.27, accuracy = 0.93\n",
      "Epoch: 5, Training Loss: 0.01, Validation Loss: 0.28, accuracy = 0.94\n",
      "Epoch: 6, Training Loss: 0.01, Validation Loss: 0.29, accuracy = 0.93\n",
      "Epoch: 7, Training Loss: 0.01, Validation Loss: 0.28, accuracy = 0.94\n",
      "Epoch: 8, Training Loss: 0.01, Validation Loss: 0.29, accuracy = 0.94\n",
      "Epoch: 9, Training Loss: 0.00, Validation Loss: 0.29, accuracy = 0.94\n"
     ]
    }
   ],
   "source": [
    "train(transfer_model, \n",
    "      optimizer,\n",
    "      torch.nn.CrossEntropyLoss(), \n",
    "      train_data_loader,\n",
    "      val_data_loader, \n",
    "      epochs=10, \n",
    "      device=device)"
   ]
  },
  {
   "cell_type": "markdown",
   "metadata": {},
   "source": [
    "## Аугментация данных\n",
    "\n",
    "Методы для аугментации доступны в torchvision.\n",
    "\n",
    "Методы могут возрващать PIL-images, тензоры или конвертить тензоры в изображения и наоборот.\n",
    "\n",
    "Есть два способа - преобразования из коробки и кастомные преобразования с использованием пользовательских функций\n",
    "\n",
    "[Подробнее](https://pytorch.org/docs/stable/torchvision/transforms.html)"
   ]
  },
  {
   "cell_type": "code",
   "execution_count": 20,
   "metadata": {},
   "outputs": [],
   "source": [
    "# трансформация из коробки осуществляется через стандартный папйплайн pytorch с вызовом определенных функций\n",
    "img_augment = transforms.Compose([\n",
    "    transforms.CenterCrop(10),\n",
    "    transforms.ToTensor(),\n",
    "    ])"
   ]
  },
  {
   "cell_type": "markdown",
   "metadata": {},
   "source": [
    "Для аугментации в разных цветовых форматах у pytorch методов нет (RGB, HSV, YUV, LAB). Но есть обертка, с помощью которой можно написать свой метод для конвертера изображений.\n",
    "\n",
    "[transforms.Lambda()](https://pytorch.org/docs/stable/torchvision/transforms.html#generic-transforms)"
   ]
  },
  {
   "cell_type": "code",
   "execution_count": 21,
   "metadata": {},
   "outputs": [],
   "source": [
    "def _random_color_apace(x):\n",
    "    output = x.convert('HSV') # метод PIL конвертирует в нужный формат\n",
    "    return output"
   ]
  },
  {
   "cell_type": "code",
   "execution_count": 22,
   "metadata": {},
   "outputs": [],
   "source": [
    "# все изображения в пакете\n",
    "color_transforms = transforms.Lambda(lambda x: _random_color_apace(x))"
   ]
  },
  {
   "cell_type": "code",
   "execution_count": 23,
   "metadata": {},
   "outputs": [],
   "source": [
    "# сдучайные изображения в пакете с вероятностью 0.5\n",
    "random_color_transforms = transforms.RandomApply([color_transforms])"
   ]
  },
  {
   "cell_type": "markdown",
   "metadata": {},
   "source": [
    "Когда анонимной функции недостаточно, можно создать свой класс, который будет производить преобразования над PILL-изображениями или над тензорами. Такой класс должен определять два метода \\__call\\__ в котором будет определен конвеер и \\__repr\\__, который вернет строковое представление преобразования, а так-же состояния для тестирования. **Ограничений на методы в call нет - можно хоть в другую сеть пихать**\n",
    "\n",
    "Для примера - добавление к тензору случайного гауссового шума."
   ]
  },
  {
   "cell_type": "code",
   "execution_count": 24,
   "metadata": {},
   "outputs": [],
   "source": [
    "class Noise():\n",
    "    \"\"\"Adds gaussian noise to a tensor.\n",
    "    \n",
    "    Example:\n",
    "        >>> transforms.Compose([\n",
    "        >>>     transforms.ToTensor(),\n",
    "        >>>     Noise(0.1, 0.05)),\n",
    "        >>> ])\n",
    "    \n",
    "    \"\"\"\n",
    "    def __init__(self, mean, stddev):\n",
    "        self.mean = mean\n",
    "        self.stddev = stddev\n",
    "\n",
    "    def __call__(self, tensor):\n",
    "        noise = torch.zeros_like(tensor).normal_(self.mean, self.stddev)\n",
    "        return tensor.add_(noise)\n",
    "    \n",
    "    def __repr__(self):\n",
    "        repr_ = f\"{self.__class__.__name__  }(mean={self.mean},sttdev={self.stddev})\"\n",
    "        return repr_"
   ]
  },
  {
   "cell_type": "code",
   "execution_count": 26,
   "metadata": {},
   "outputs": [],
   "source": [
    "custom_transform_pipeline = transforms.Compose([\n",
    "    random_color_transforms, \n",
    "    Noise(0.1, 0.05)\n",
    "])"
   ]
  },
  {
   "cell_type": "markdown",
   "metadata": {},
   "source": [
    "Еще один метод улучшить качество обучения модели - обучиться вначале на изображениях маленького формата, затем обученную сеть еще раз прогнать на изображдениях большего формата и затем еще раз на самых больших."
   ]
  },
  {
   "cell_type": "code",
   "execution_count": 27,
   "metadata": {},
   "outputs": [],
   "source": [
    "resize_pipeline = transforms.Compose([\n",
    "    transforms.Resize(64),\n",
    "    # other augmentation\n",
    "    transforms.ToTensor(),\n",
    "    transforms.Normalize(mean=[0.485, 0.456, 0.406],\n",
    "                    std=[0.229, 0.224, 0.225])\n",
    "])"
   ]
  },
  {
   "cell_type": "markdown",
   "metadata": {},
   "source": [
    "Этот метод правда замедлит обучение, так как каждый раз в пайплайне будет выполняться ресайз. Можно подготовить картинки заранее, но это требует места на диске.\n",
    "\n",
    "Кроме того, можно повышать глубину сети, к примеру двигаясь от ResNet34, к 101 и 152"
   ]
  },
  {
   "cell_type": "markdown",
   "metadata": {},
   "source": [
    "Еще один способ - использовать несколько моделей, а затем построить их ансамбль. В данном случае мы прост овыберем среднее из двух резнетов. stack объединяет массив тензоров моделей. mean вычисляет среднее (в данном случае по первой размерности тензора). argmax выбирает индекс тензора с наивысшей размерностью. Естественно это самый банальный из возможных примеров."
   ]
  },
  {
   "cell_type": "code",
   "execution_count": 28,
   "metadata": {},
   "outputs": [
    {
     "name": "stderr",
     "output_type": "stream",
     "text": [
      "/home/konstantin/anaconda3/envs/pytorch-gpu/lib/python3.7/site-packages/ipykernel_launcher.py:2: UserWarning: Implicit dimension choice for softmax has been deprecated. Change the call to include dim=X as an argument.\n",
      "  \n"
     ]
    }
   ],
   "source": [
    "models_ensemble = [models.resnet50().to(device), models.resnet50().to(device)]\n",
    "predictions = [F.softmax(m(torch.rand(1,3,224,244).to(device))) for m in models_ensemble] \n",
    "avg_prediction = torch.stack(predictions).mean(0).argmax()"
   ]
  },
  {
   "cell_type": "code",
   "execution_count": 29,
   "metadata": {},
   "outputs": [
    {
     "data": {
      "text/plain": [
       "tensor(260, device='cuda:0')"
      ]
     },
     "execution_count": 29,
     "metadata": {},
     "output_type": "execute_result"
    }
   ],
   "source": [
    "avg_prediction"
   ]
  },
  {
   "cell_type": "code",
   "execution_count": 30,
   "metadata": {},
   "outputs": [
    {
     "data": {
      "text/plain": [
       "tensor([[[0.0006, 0.0017, 0.0011,  ..., 0.0027, 0.0005, 0.0005]],\n",
       "\n",
       "        [[0.0008, 0.0006, 0.0006,  ..., 0.0005, 0.0004, 0.0003]]],\n",
       "       device='cuda:0', grad_fn=<StackBackward>)"
      ]
     },
     "execution_count": 30,
     "metadata": {},
     "output_type": "execute_result"
    }
   ],
   "source": [
    "torch.stack(predictions)"
   ]
  },
  {
   "cell_type": "code",
   "execution_count": null,
   "metadata": {},
   "outputs": [],
   "source": []
  }
 ],
 "metadata": {
  "kernelspec": {
   "display_name": "Python 3",
   "language": "python",
   "name": "python3"
  },
  "language_info": {
   "codemirror_mode": {
    "name": "ipython",
    "version": 3
   },
   "file_extension": ".py",
   "mimetype": "text/x-python",
   "name": "python",
   "nbconvert_exporter": "python",
   "pygments_lexer": "ipython3",
   "version": "3.7.7"
  }
 },
 "nbformat": 4,
 "nbformat_minor": 4
}
