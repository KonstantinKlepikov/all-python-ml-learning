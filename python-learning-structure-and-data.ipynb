{
 "cells": [
  {
   "cell_type": "code",
   "execution_count": 1,
   "metadata": {},
   "outputs": [],
   "source": [
    "from python_learning import sequences as seq"
   ]
  },
  {
   "cell_type": "markdown",
   "metadata": {},
   "source": [
    "## Распаковка элементов из произвольной последовательности"
   ]
  },
  {
   "cell_type": "code",
   "execution_count": 2,
   "metadata": {},
   "outputs": [
    {
     "data": {
      "text/plain": [
       "[0, 1, 2, 3, 4, 5, 6, 7, 8, 9]"
      ]
     },
     "execution_count": 2,
     "metadata": {},
     "output_type": "execute_result"
    }
   ],
   "source": [
    "arb_len_seq = list(range(10))\n",
    "arb_len_seq"
   ]
  },
  {
   "cell_type": "code",
   "execution_count": 3,
   "metadata": {},
   "outputs": [
    {
     "data": {
      "text/plain": [
       "0"
      ]
     },
     "execution_count": 3,
     "metadata": {},
     "output_type": "execute_result"
    }
   ],
   "source": [
    "seq.arbitrary_len(arb_len_seq, mode=\"first\")"
   ]
  },
  {
   "cell_type": "code",
   "execution_count": 4,
   "metadata": {},
   "outputs": [
    {
     "data": {
      "text/plain": [
       "[1, 2, 3, 4, 5, 6, 7, 8]"
      ]
     },
     "execution_count": 4,
     "metadata": {},
     "output_type": "execute_result"
    }
   ],
   "source": [
    "seq.arbitrary_len(arb_len_seq, mode=\"middle\")"
   ]
  },
  {
   "cell_type": "code",
   "execution_count": 5,
   "metadata": {},
   "outputs": [
    {
     "data": {
      "text/plain": [
       "9"
      ]
     },
     "execution_count": 5,
     "metadata": {},
     "output_type": "execute_result"
    }
   ],
   "source": [
    "seq.arbitrary_len(arb_len_seq, mode=\"last\")"
   ]
  },
  {
   "cell_type": "markdown",
   "metadata": {},
   "source": [
    "## Получение N последних элементов последовательности"
   ]
  },
  {
   "cell_type": "code",
   "execution_count": 6,
   "metadata": {},
   "outputs": [
    {
     "name": "stdout",
     "output_type": "stream",
     "text": [
      "\n",
      "elem: Текст и тексты\n",
      "\n",
      "pelem: Текст и тексты\n",
      "pelem: «Настройка» и «подписка» существуют только в единственном числе. Это все знают, потому что проверяли по словарю Ушакова.\n",
      "\n",
      "elem: А мне еще кажется, что «текст» тоже следует использовать только в единственном числе:\n",
      "\n",
      "pelem: «Настройка» и «подписка» существуют только в единственном числе. Это все знают, потому что проверяли по словарю Ушакова.\n",
      "pelem: А мне еще кажется, что «текст» тоже следует использовать только в единственном числе:\n",
      "pelem: Плохо\n",
      "\n",
      "elem: Написать тексты для сайта\n",
      "\n",
      "pelem: А мне еще кажется, что «текст» тоже следует использовать только в единственном числе:\n",
      "pelem: Плохо\n",
      "pelem: Написать тексты для сайта\n",
      "\n",
      "elem: Написать текст для сайта\n",
      "\n",
      "pelem: Плохо\n",
      "pelem: Написать тексты для сайта\n",
      "pelem: Написать текст для сайта\n",
      "\n",
      "elem: Написать текст сайта\n",
      "\n"
     ]
    }
   ],
   "source": [
    "with open('python_learning/content/some_text.txt') as some_text:\n",
    "    for elem, prev_elem in seq.search_and_scrop(some_text, \n",
    "                                                pattern='текст', N=3):\n",
    "        for pelem in prev_elem:\n",
    "            print('pelem: {0}'.format(pelem), end='')\n",
    "        print('\\nelem: {0}\\n'.format(elem), end='')"
   ]
  },
  {
   "cell_type": "markdown",
   "metadata": {},
   "source": [
    "## Получение N максимальных или минимальных элементов через поиск в куче"
   ]
  },
  {
   "cell_type": "code",
   "execution_count": 7,
   "metadata": {},
   "outputs": [
    {
     "data": {
      "text/plain": [
       "[6, 7, 2, 10, 1, 9, 10, 1, 1, 10]"
      ]
     },
     "execution_count": 7,
     "metadata": {},
     "output_type": "execute_result"
    }
   ],
   "source": [
    "import random\n",
    "nums = [random.randint(0, 15) for x in range(10)]\n",
    "nums"
   ]
  },
  {
   "cell_type": "code",
   "execution_count": 8,
   "metadata": {},
   "outputs": [
    {
     "data": {
      "text/plain": [
       "[1, 1, 1]"
      ]
     },
     "execution_count": 8,
     "metadata": {},
     "output_type": "execute_result"
    }
   ],
   "source": [
    "seq.searc_for_minmax(nums, mode=\"min\")"
   ]
  },
  {
   "cell_type": "code",
   "execution_count": 9,
   "metadata": {},
   "outputs": [
    {
     "data": {
      "text/plain": [
       "[10, 10, 10, 9, 7]"
      ]
     },
     "execution_count": 9,
     "metadata": {},
     "output_type": "execute_result"
    }
   ],
   "source": [
    "seq.searc_for_minmax(nums, mode=\"max\", N=5)"
   ]
  },
  {
   "cell_type": "code",
   "execution_count": 10,
   "metadata": {},
   "outputs": [
    {
     "data": {
      "text/plain": [
       "[[12, 10, 1, 14, 13, 14, 11, 10, 1, 10],\n",
       " [8, 15, 0, 6, 9, 4, 2, 8, 2, 12],\n",
       " [6, 3, 5, 11, 11, 9, 9, 11, 6, 5],\n",
       " [8, 6, 7, 8, 10, 8, 10, 5, 15, 6],\n",
       " [0, 4, 1, 11, 9, 5, 14, 10, 12, 8],\n",
       " [0, 9, 1, 13, 14, 1, 4, 3, 3, 4],\n",
       " [7, 10, 6, 10, 6, 1, 8, 2, 8, 14],\n",
       " [11, 6, 11, 3, 14, 6, 0, 4, 9, 6],\n",
       " [11, 14, 3, 6, 14, 11, 2, 8, 4, 11],\n",
       " [0, 4, 12, 9, 4, 13, 4, 7, 1, 8]]"
      ]
     },
     "execution_count": 10,
     "metadata": {},
     "output_type": "execute_result"
    }
   ],
   "source": [
    "mult_nums = [[random.randint(0, 15) for x in range(10)] for y in range(10)]\n",
    "mult_nums"
   ]
  },
  {
   "cell_type": "code",
   "execution_count": 11,
   "metadata": {},
   "outputs": [
    {
     "data": {
      "text/plain": [
       "[[0, 4, 1, 11, 9, 5, 14, 10, 12, 8], [0, 4, 12, 9, 4, 13, 4, 7, 1, 8]]"
      ]
     },
     "execution_count": 11,
     "metadata": {},
     "output_type": "execute_result"
    }
   ],
   "source": [
    "# two lists with smallest number in first 3 position\n",
    "seq.searc_for_minmax(mult_nums, mode=\"min\", key=lambda s: s[0:3], N=2)"
   ]
  },
  {
   "cell_type": "markdown",
   "metadata": {},
   "source": [
    "## Очередь с приоритетом"
   ]
  },
  {
   "cell_type": "code",
   "execution_count": 12,
   "metadata": {},
   "outputs": [
    {
     "data": {
      "text/plain": [
       "Item('bar')"
      ]
     },
     "execution_count": 12,
     "metadata": {},
     "output_type": "execute_result"
    }
   ],
   "source": [
    "q = seq.PriorityQueue()\n",
    "q.push(seq.Item('foo'), 1)\n",
    "q.push(seq.Item('bar'), 5)\n",
    "q.push(seq.Item('spam'), 4)\n",
    "q.push(seq.Item('grok'), 1)\n",
    "q.pop()"
   ]
  },
  {
   "cell_type": "code",
   "execution_count": 13,
   "metadata": {},
   "outputs": [
    {
     "data": {
      "text/plain": [
       "Item('spam')"
      ]
     },
     "execution_count": 13,
     "metadata": {},
     "output_type": "execute_result"
    }
   ],
   "source": [
    "q.pop()"
   ]
  },
  {
   "cell_type": "code",
   "execution_count": 14,
   "metadata": {},
   "outputs": [
    {
     "data": {
      "text/plain": [
       "Item('foo')"
      ]
     },
     "execution_count": 14,
     "metadata": {},
     "output_type": "execute_result"
    }
   ],
   "source": [
    "q.pop()"
   ]
  },
  {
   "cell_type": "code",
   "execution_count": 15,
   "metadata": {},
   "outputs": [
    {
     "data": {
      "text/plain": [
       "Item('grok')"
      ]
     },
     "execution_count": 15,
     "metadata": {},
     "output_type": "execute_result"
    }
   ],
   "source": [
    "q.pop()"
   ]
  },
  {
   "cell_type": "markdown",
   "metadata": {},
   "source": [
    "## Отображение ключей словаря на неск.значений\n",
    "\n",
    "Если надо отобразить ключ более чем на одно значение, используется list или set\n",
    "\n",
    "list - для сохранения упорядоченности\n",
    "\n",
    "set - для устранения дубликатов\n",
    "\n",
    "```python\n",
    "\n",
    "a = {'b': [1, 2, 3]}\n",
    "```"
   ]
  },
  {
   "cell_type": "markdown",
   "metadata": {},
   "source": [
    "### Вариант 1. Через defaultdict\n",
    "\n",
    "*автоматически создает запись словаря для ключей, даже если в данный момент их нет в словаре"
   ]
  },
  {
   "cell_type": "code",
   "execution_count": 16,
   "metadata": {},
   "outputs": [
    {
     "data": {
      "text/plain": [
       "defaultdict(list, {'a': [1, 2]})"
      ]
     },
     "execution_count": 16,
     "metadata": {},
     "output_type": "execute_result"
    }
   ],
   "source": [
    "from collections import defaultdict\n",
    "\n",
    "d = defaultdict(list)\n",
    "d['a'].append(1)\n",
    "d['a'].append(2)\n",
    "d"
   ]
  },
  {
   "cell_type": "code",
   "execution_count": 17,
   "metadata": {},
   "outputs": [
    {
     "data": {
      "text/plain": [
       "defaultdict(set, {'a': {1, 2}})"
      ]
     },
     "execution_count": 17,
     "metadata": {},
     "output_type": "execute_result"
    }
   ],
   "source": [
    "d = defaultdict(set)\n",
    "d['a'].add(1)\n",
    "d['a'].add(2)\n",
    "d['a'].add(1)\n",
    "d"
   ]
  },
  {
   "cell_type": "markdown",
   "metadata": {},
   "source": [
    "### Вариант 2. Через setdefault для обычного словаря"
   ]
  },
  {
   "cell_type": "code",
   "execution_count": 18,
   "metadata": {},
   "outputs": [
    {
     "data": {
      "text/plain": [
       "{'a': [1, 2]}"
      ]
     },
     "execution_count": 18,
     "metadata": {},
     "output_type": "execute_result"
    }
   ],
   "source": [
    "d = {}\n",
    "d.setdefault('a', []).append(1)\n",
    "d.setdefault('a', []).append(2)\n",
    "d"
   ]
  },
  {
   "cell_type": "markdown",
   "metadata": {},
   "source": [
    "## OrderdDict\n",
    "\n",
    "Не смотря на то, что с 3.6 словари упорядочены, поддерживается OrderdDict, который удобно использовать для сериализации или кодирования в другой формат словарей\n",
    "\n",
    "<span class=\"mark\">Дорого по памяти и начиная с 3.7 это legacy</span>"
   ]
  },
  {
   "cell_type": "code",
   "execution_count": 19,
   "metadata": {},
   "outputs": [
    {
     "name": "stdout",
     "output_type": "stream",
     "text": [
      "one 1\n",
      "two 2\n",
      "three 3\n"
     ]
    }
   ],
   "source": [
    "from collections import OrderedDict\n",
    "\n",
    "d = OrderedDict()\n",
    "d['one'] = 1\n",
    "d['two'] = 2\n",
    "d['three'] = 3\n",
    "for key in d:\n",
    "    print(key, d[key])"
   ]
  },
  {
   "cell_type": "markdown",
   "metadata": {},
   "source": [
    "## Получение ключа значения словаря, соответствующего некоторой вычислительной метрике\n",
    "\n",
    "Используется zip() для обращения ключей и значений в последовательность пар (значение, ключ). Значения в таком случае будут использоваться в метриках первыми, а при их равестве - ключи. Это удобно для min/max \n",
    "\n",
    "<span class=\"burk\">Важно</span>: zip() вернет итератор, по которому можно проти только один раз."
   ]
  },
  {
   "cell_type": "code",
   "execution_count": 20,
   "metadata": {},
   "outputs": [
    {
     "data": {
      "text/plain": [
       "(24.2, 'who')"
      ]
     },
     "execution_count": 20,
     "metadata": {},
     "output_type": "execute_result"
    }
   ],
   "source": [
    "for_met = {\n",
    "    'what': 34.5,\n",
    "    'where': 56.7,\n",
    "    'who': 24.2\n",
    "}\n",
    "seq.dict_val_comparison(for_met, mode='min')"
   ]
  },
  {
   "cell_type": "code",
   "execution_count": 21,
   "metadata": {},
   "outputs": [
    {
     "data": {
      "text/plain": [
       "(56.7, 'where')"
      ]
     },
     "execution_count": 21,
     "metadata": {},
     "output_type": "execute_result"
    }
   ],
   "source": [
    "seq.dict_val_comparison(for_met, mode='max')"
   ]
  },
  {
   "cell_type": "code",
   "execution_count": 22,
   "metadata": {},
   "outputs": [
    {
     "data": {
      "text/plain": [
       "[(24.2, 'who'), (34.5, 'what'), (56.7, 'where')]"
      ]
     },
     "execution_count": 22,
     "metadata": {},
     "output_type": "execute_result"
    }
   ],
   "source": [
    "seq.dict_val_comparison(for_met, mode='sorted')"
   ]
  },
  {
   "cell_type": "code",
   "execution_count": 23,
   "metadata": {},
   "outputs": [],
   "source": [
    "# тоже самое через ООП\n",
    "met = seq.DictValComparison(for_met)"
   ]
  },
  {
   "cell_type": "code",
   "execution_count": 24,
   "metadata": {},
   "outputs": [
    {
     "data": {
      "text/plain": [
       "(24.2, 'who')"
      ]
     },
     "execution_count": 24,
     "metadata": {},
     "output_type": "execute_result"
    }
   ],
   "source": [
    "met.compMin()"
   ]
  },
  {
   "cell_type": "code",
   "execution_count": 25,
   "metadata": {},
   "outputs": [
    {
     "data": {
      "text/plain": [
       "(56.7, 'where')"
      ]
     },
     "execution_count": 25,
     "metadata": {},
     "output_type": "execute_result"
    }
   ],
   "source": [
    "met.compMax()"
   ]
  },
  {
   "cell_type": "code",
   "execution_count": 26,
   "metadata": {},
   "outputs": [
    {
     "data": {
      "text/plain": [
       "[(24.2, 'who'), (34.5, 'what'), (56.7, 'where')]"
      ]
     },
     "execution_count": 26,
     "metadata": {},
     "output_type": "execute_result"
    }
   ],
   "source": [
    "met.compSort()"
   ]
  },
  {
   "cell_type": "markdown",
   "metadata": {},
   "source": [
    "## Поиск общих элементов в словарях\n",
    "\n",
    "- keys() возвращает объект, который поддерживает операции над множествами\n",
    "- items() возвращает пары ключ и значение и тоже поддерживает операции над множествами\n",
    "- values() операции над множествами не поддерживает\n"
   ]
  },
  {
   "cell_type": "code",
   "execution_count": 27,
   "metadata": {},
   "outputs": [],
   "source": [
    "a = {\n",
    "    'x': 1,\n",
    "    'y': 2,\n",
    "    'z': 3\n",
    "}\n",
    "b = {\n",
    "    'w': 0,\n",
    "    'x': 1,\n",
    "    'y': 2\n",
    "}"
   ]
  },
  {
   "cell_type": "code",
   "execution_count": 28,
   "metadata": {},
   "outputs": [
    {
     "data": {
      "text/plain": [
       "{'x', 'y'}"
      ]
     },
     "execution_count": 28,
     "metadata": {},
     "output_type": "execute_result"
    }
   ],
   "source": [
    "# пересечение ключей\n",
    "a.keys() & b.keys()"
   ]
  },
  {
   "cell_type": "code",
   "execution_count": 29,
   "metadata": {},
   "outputs": [
    {
     "data": {
      "text/plain": [
       "{'z'}"
      ]
     },
     "execution_count": 29,
     "metadata": {},
     "output_type": "execute_result"
    }
   ],
   "source": [
    "# разность ключей\n",
    "a.keys() - b.keys()"
   ]
  },
  {
   "cell_type": "code",
   "execution_count": 30,
   "metadata": {},
   "outputs": [
    {
     "data": {
      "text/plain": [
       "{'w'}"
      ]
     },
     "execution_count": 30,
     "metadata": {},
     "output_type": "execute_result"
    }
   ],
   "source": [
    "b.keys() - a.keys()"
   ]
  },
  {
   "cell_type": "code",
   "execution_count": 31,
   "metadata": {},
   "outputs": [
    {
     "data": {
      "text/plain": [
       "{'w', 'x', 'y', 'z'}"
      ]
     },
     "execution_count": 31,
     "metadata": {},
     "output_type": "execute_result"
    }
   ],
   "source": [
    "# объединение ключей\n",
    "a.keys() | b.keys()"
   ]
  },
  {
   "cell_type": "code",
   "execution_count": 32,
   "metadata": {},
   "outputs": [
    {
     "data": {
      "text/plain": [
       "{('x', 1), ('y', 2)}"
      ]
     },
     "execution_count": 32,
     "metadata": {},
     "output_type": "execute_result"
    }
   ],
   "source": [
    "# пересечение пар\n",
    "a.items() & b.items()"
   ]
  },
  {
   "cell_type": "code",
   "execution_count": 33,
   "metadata": {},
   "outputs": [],
   "source": [
    "# новый словарь (удалим общие пары)\n",
    "c = {key:a[key] for key in a.keys() - (a.keys() & b.keys())}"
   ]
  },
  {
   "cell_type": "code",
   "execution_count": 34,
   "metadata": {},
   "outputs": [
    {
     "data": {
      "text/plain": [
       "{'z': 3}"
      ]
     },
     "execution_count": 34,
     "metadata": {},
     "output_type": "execute_result"
    }
   ],
   "source": [
    "c"
   ]
  },
  {
   "cell_type": "markdown",
   "metadata": {},
   "source": [
    "## Удаление дубликатов из последовательностей с сохранением порядка\n",
    "\n",
    "Используем массивы для удалениядублей, при этом сохраняем порядок элементов. Для нехешируемых последовательностей (например для списков словарей) используем аргумнт k, в котором задаем список элементов последовательности, по которым будем дедублицировать."
   ]
  },
  {
   "cell_type": "code",
   "execution_count": 35,
   "metadata": {},
   "outputs": [],
   "source": [
    "def dedubl(some_seq, key=None):\n",
    "    dd = seq.Deuduliacate(some_seq)\n",
    "    try:\n",
    "        return list(dd.dedubl_hash())\n",
    "    except TypeError:\n",
    "        return list(dd.dedubl_nonhash(key))"
   ]
  },
  {
   "cell_type": "code",
   "execution_count": 36,
   "metadata": {},
   "outputs": [
    {
     "data": {
      "text/plain": [
       "[4, 4, 14, 5, 6, 6, 10, 15, 10, 5]"
      ]
     },
     "execution_count": 36,
     "metadata": {},
     "output_type": "execute_result"
    }
   ],
   "source": [
    "nums = [random.randint(0, 15) for x in range(10)]\n",
    "nums"
   ]
  },
  {
   "cell_type": "code",
   "execution_count": 37,
   "metadata": {},
   "outputs": [
    {
     "data": {
      "text/plain": [
       "[4, 14, 5, 6, 10, 15]"
      ]
     },
     "execution_count": 37,
     "metadata": {},
     "output_type": "execute_result"
    }
   ],
   "source": [
    "dedubl(nums)"
   ]
  },
  {
   "cell_type": "code",
   "execution_count": 38,
   "metadata": {},
   "outputs": [],
   "source": [
    "nonhash = [\n",
    "    {'a': 1, 'b': 3},\n",
    "    {'a': 1, 'b': 2},\n",
    "    {'a': 2, 'b': 3},\n",
    "    {'a': 2, 'b': 3}\n",
    "]"
   ]
  },
  {
   "cell_type": "code",
   "execution_count": 39,
   "metadata": {},
   "outputs": [
    {
     "data": {
      "text/plain": [
       "[{'a': 1, 'b': 3}, {'a': 2, 'b': 3}]"
      ]
     },
     "execution_count": 39,
     "metadata": {},
     "output_type": "execute_result"
    }
   ],
   "source": [
    "dedubl(nonhash, key=lambda x: x['a'])"
   ]
  },
  {
   "cell_type": "code",
   "execution_count": 40,
   "metadata": {},
   "outputs": [
    {
     "data": {
      "text/plain": [
       "[{'a': 1, 'b': 3}, {'a': 1, 'b': 2}]"
      ]
     },
     "execution_count": 40,
     "metadata": {},
     "output_type": "execute_result"
    }
   ],
   "source": [
    "dedubl(nonhash, key=lambda x: x['b'])"
   ]
  },
  {
   "cell_type": "code",
   "execution_count": 41,
   "metadata": {},
   "outputs": [
    {
     "data": {
      "text/plain": [
       "[{'a': 1, 'b': 3}, {'a': 1, 'b': 2}, {'a': 2, 'b': 3}]"
      ]
     },
     "execution_count": 41,
     "metadata": {},
     "output_type": "execute_result"
    }
   ],
   "source": [
    "dedubl(nonhash, key=lambda x: (x['a'],x['b']))"
   ]
  },
  {
   "cell_type": "markdown",
   "metadata": {},
   "source": [
    "## Присваивание имен срезам\n",
    "\n",
    "Можно использовать встроенную функцию slice()? которая возвращает объект среза"
   ]
  },
  {
   "cell_type": "code",
   "execution_count": 42,
   "metadata": {},
   "outputs": [
    {
     "data": {
      "text/plain": [
       "[1, 5, 14, 14, 7, 10, 1, 8, 4, 0]"
      ]
     },
     "execution_count": 42,
     "metadata": {},
     "output_type": "execute_result"
    }
   ],
   "source": [
    "nums = [random.randint(0, 15) for x in range(10)]\n",
    "nums"
   ]
  },
  {
   "cell_type": "code",
   "execution_count": 43,
   "metadata": {},
   "outputs": [
    {
     "data": {
      "text/plain": [
       "slice(2, 9, 2)"
      ]
     },
     "execution_count": 43,
     "metadata": {},
     "output_type": "execute_result"
    }
   ],
   "source": [
    "a = slice(2, 9, 2)\n",
    "a"
   ]
  },
  {
   "cell_type": "code",
   "execution_count": 44,
   "metadata": {},
   "outputs": [
    {
     "data": {
      "text/plain": [
       "2"
      ]
     },
     "execution_count": 44,
     "metadata": {},
     "output_type": "execute_result"
    }
   ],
   "source": [
    "a.start"
   ]
  },
  {
   "cell_type": "code",
   "execution_count": 45,
   "metadata": {},
   "outputs": [
    {
     "data": {
      "text/plain": [
       "9"
      ]
     },
     "execution_count": 45,
     "metadata": {},
     "output_type": "execute_result"
    }
   ],
   "source": [
    "a.stop"
   ]
  },
  {
   "cell_type": "code",
   "execution_count": 46,
   "metadata": {},
   "outputs": [
    {
     "data": {
      "text/plain": [
       "2"
      ]
     },
     "execution_count": 46,
     "metadata": {},
     "output_type": "execute_result"
    }
   ],
   "source": [
    "a.step"
   ]
  },
  {
   "cell_type": "code",
   "execution_count": 47,
   "metadata": {},
   "outputs": [
    {
     "data": {
      "text/plain": [
       "[14, 7, 1, 4]"
      ]
     },
     "execution_count": 47,
     "metadata": {},
     "output_type": "execute_result"
    }
   ],
   "source": [
    "nums[2:9:2]"
   ]
  },
  {
   "cell_type": "code",
   "execution_count": 48,
   "metadata": {},
   "outputs": [
    {
     "data": {
      "text/plain": [
       "[14, 7, 1, 4]"
      ]
     },
     "execution_count": 48,
     "metadata": {},
     "output_type": "execute_result"
    }
   ],
   "source": [
    "nums[a]"
   ]
  },
  {
   "cell_type": "markdown",
   "metadata": {},
   "source": [
    "С помощью метода indices(size) можно получить кортеж start, stop, step со значениями, ограниченными, так чтобы вписаться в границы"
   ]
  },
  {
   "cell_type": "code",
   "execution_count": 49,
   "metadata": {},
   "outputs": [
    {
     "data": {
      "text/plain": [
       "(2, 8, 2)"
      ]
     },
     "execution_count": 49,
     "metadata": {},
     "output_type": "execute_result"
    }
   ],
   "source": [
    "word = 'someword'\n",
    "a.indices(len(word))"
   ]
  },
  {
   "cell_type": "code",
   "execution_count": 50,
   "metadata": {},
   "outputs": [
    {
     "data": {
      "text/plain": [
       "['m', 'w', 'r']"
      ]
     },
     "execution_count": 50,
     "metadata": {},
     "output_type": "execute_result"
    }
   ],
   "source": [
    "[word[i] for i in range(*a.indices(len(word)))]"
   ]
  },
  {
   "cell_type": "markdown",
   "metadata": {},
   "source": [
    "## Подсчет элементов в последовательности\n",
    "\n",
    "Наиболее часто встречающиеся с помощью Counter и метода most_common()\n",
    "\n",
    "Объект Counter(), который из себя представляет словарь вида item: frequincy так-же поддерживает арифметические операции"
   ]
  },
  {
   "cell_type": "code",
   "execution_count": 51,
   "metadata": {},
   "outputs": [],
   "source": [
    "words = ['aaa', 'bbb', 'ccc', 'ddd', 'aaa',\n",
    "        'zzz', 'aaa', 'bbb', 'ccc', 'ddd',\n",
    "        'bbb', 'ccc', 'aaa', 'bbb', 'aaa',\n",
    "        'ccc', 'zzz', 'aaa', 'bbb', 'iii']"
   ]
  },
  {
   "cell_type": "code",
   "execution_count": 52,
   "metadata": {},
   "outputs": [],
   "source": [
    "ww = seq.CountsOfItems(words)"
   ]
  },
  {
   "cell_type": "code",
   "execution_count": 53,
   "metadata": {},
   "outputs": [
    {
     "data": {
      "text/plain": [
       "[('aaa', 6), ('bbb', 5), ('ccc', 4)]"
      ]
     },
     "execution_count": 53,
     "metadata": {},
     "output_type": "execute_result"
    }
   ],
   "source": [
    "ww.most_freq(3)"
   ]
  },
  {
   "cell_type": "code",
   "execution_count": 54,
   "metadata": {},
   "outputs": [],
   "source": [
    "another_words = ['aaa', 'bbb', 'ccc', 'ddd', 'aaa',\n",
    "                'zzz', 'aaa', 'bbb', 'ccc', 'ddd',\n",
    "                'bbb', 'ccc', 'aaa', 'bbb', 'aaa']"
   ]
  },
  {
   "cell_type": "code",
   "execution_count": 55,
   "metadata": {},
   "outputs": [
    {
     "data": {
      "text/plain": [
       "[('aaa', 11), ('bbb', 9)]"
      ]
     },
     "execution_count": 55,
     "metadata": {},
     "output_type": "execute_result"
    }
   ],
   "source": [
    "ww.most_freq_operation(another_words, N=2, mode=\"sum\")"
   ]
  },
  {
   "cell_type": "code",
   "execution_count": 56,
   "metadata": {},
   "outputs": [
    {
     "data": {
      "text/plain": [
       "[('aaa', 1), ('bbb', 1)]"
      ]
     },
     "execution_count": 56,
     "metadata": {},
     "output_type": "execute_result"
    }
   ],
   "source": [
    "ww.most_freq_operation(another_words, N=2, mode=\"diff\")"
   ]
  },
  {
   "cell_type": "markdown",
   "metadata": {},
   "source": [
    "## Сортировка списка словарей по общему ключу\n",
    "\n",
    "функция itemgetter модуля operator"
   ]
  },
  {
   "cell_type": "code",
   "execution_count": 57,
   "metadata": {},
   "outputs": [],
   "source": [
    "rows = [\n",
    "    {'this': 1000, 'that': 'aaaa'},\n",
    "    {'this': 1200, 'that': 'eeee'},\n",
    "    {'this': 4000, 'that': 'bbbb'},\n",
    "    {'this': 500, 'that': 'zzzz'},\n",
    "]"
   ]
  },
  {
   "cell_type": "code",
   "execution_count": 58,
   "metadata": {},
   "outputs": [],
   "source": [
    "from operator import itemgetter\n",
    "r_sorted_1 = sorted(rows, key=itemgetter('this'))\n",
    "r_sorted_2 = sorted(rows, key=itemgetter('that'))"
   ]
  },
  {
   "cell_type": "code",
   "execution_count": 59,
   "metadata": {},
   "outputs": [
    {
     "data": {
      "text/plain": [
       "[{'this': 500, 'that': 'zzzz'},\n",
       " {'this': 1000, 'that': 'aaaa'},\n",
       " {'this': 1200, 'that': 'eeee'},\n",
       " {'this': 4000, 'that': 'bbbb'}]"
      ]
     },
     "execution_count": 59,
     "metadata": {},
     "output_type": "execute_result"
    }
   ],
   "source": [
    "r_sorted_1"
   ]
  },
  {
   "cell_type": "code",
   "execution_count": 60,
   "metadata": {},
   "outputs": [
    {
     "data": {
      "text/plain": [
       "[{'this': 1000, 'that': 'aaaa'},\n",
       " {'this': 4000, 'that': 'bbbb'},\n",
       " {'this': 1200, 'that': 'eeee'},\n",
       " {'this': 500, 'that': 'zzzz'}]"
      ]
     },
     "execution_count": 60,
     "metadata": {},
     "output_type": "execute_result"
    }
   ],
   "source": [
    "r_sorted_2"
   ]
  },
  {
   "cell_type": "code",
   "execution_count": 61,
   "metadata": {},
   "outputs": [
    {
     "data": {
      "text/plain": [
       "[{'this': 500, 'that': 'zzzz'},\n",
       " {'this': 1000, 'that': 'aaaa'},\n",
       " {'this': 1200, 'that': 'eeee'},\n",
       " {'this': 4000, 'that': 'bbbb'}]"
      ]
     },
     "execution_count": 61,
     "metadata": {},
     "output_type": "execute_result"
    }
   ],
   "source": [
    "r_sorted_3 = sorted(rows, key=itemgetter('this', 'that'))\n",
    "r_sorted_3"
   ]
  },
  {
   "cell_type": "markdown",
   "metadata": {},
   "source": [
    "Функция itemgetter() создает итерируемый объект, который принимает элемент из последовательности и возвращает значение, которое будет использовано для сортировки\n",
    "\n",
    "Соответственно sorted() принимает в качестве аргумента key не только объекты itemgetter(), но и, к примеру, lambda-функции. Itemgetter() обычно быстрее\n",
    "\n",
    "Так-же можно применять и к min()/max()"
   ]
  },
  {
   "cell_type": "code",
   "execution_count": null,
   "metadata": {},
   "outputs": [],
   "source": []
  }
 ],
 "metadata": {
  "kernelspec": {
   "display_name": "Python 3",
   "language": "python",
   "name": "python3"
  },
  "language_info": {
   "codemirror_mode": {
    "name": "ipython",
    "version": 3
   },
   "file_extension": ".py",
   "mimetype": "text/x-python",
   "name": "python",
   "nbconvert_exporter": "python",
   "pygments_lexer": "ipython3",
   "version": "3.7.6"
  }
 },
 "nbformat": 4,
 "nbformat_minor": 4
}
