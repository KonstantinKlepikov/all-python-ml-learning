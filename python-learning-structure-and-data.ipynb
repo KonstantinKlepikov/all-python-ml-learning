{
 "cells": [
  {
   "cell_type": "code",
   "execution_count": 1,
   "metadata": {},
   "outputs": [],
   "source": [
    "from python_learning import sequences as seq"
   ]
  },
  {
   "cell_type": "markdown",
   "metadata": {},
   "source": [
    "## Распаковка элементов из произвольной последовательности"
   ]
  },
  {
   "cell_type": "code",
   "execution_count": 2,
   "metadata": {},
   "outputs": [
    {
     "data": {
      "text/plain": [
       "[0, 1, 2, 3, 4, 5, 6, 7, 8, 9]"
      ]
     },
     "execution_count": 2,
     "metadata": {},
     "output_type": "execute_result"
    }
   ],
   "source": [
    "arb_len_seq = list(range(10))\n",
    "arb_len_seq"
   ]
  },
  {
   "cell_type": "code",
   "execution_count": 3,
   "metadata": {},
   "outputs": [
    {
     "data": {
      "text/plain": [
       "0"
      ]
     },
     "execution_count": 3,
     "metadata": {},
     "output_type": "execute_result"
    }
   ],
   "source": [
    "seq.arbitrary_len(arb_len_seq, mode=\"first\")"
   ]
  },
  {
   "cell_type": "code",
   "execution_count": 4,
   "metadata": {},
   "outputs": [
    {
     "data": {
      "text/plain": [
       "[1, 2, 3, 4, 5, 6, 7, 8]"
      ]
     },
     "execution_count": 4,
     "metadata": {},
     "output_type": "execute_result"
    }
   ],
   "source": [
    "seq.arbitrary_len(arb_len_seq, mode=\"middle\")"
   ]
  },
  {
   "cell_type": "code",
   "execution_count": 5,
   "metadata": {},
   "outputs": [
    {
     "data": {
      "text/plain": [
       "9"
      ]
     },
     "execution_count": 5,
     "metadata": {},
     "output_type": "execute_result"
    }
   ],
   "source": [
    "seq.arbitrary_len(arb_len_seq, mode=\"last\")"
   ]
  },
  {
   "cell_type": "markdown",
   "metadata": {},
   "source": [
    "## Получение N последних элементов последовательности"
   ]
  },
  {
   "cell_type": "code",
   "execution_count": 6,
   "metadata": {},
   "outputs": [
    {
     "name": "stdout",
     "output_type": "stream",
     "text": [
      "\n",
      "elem: Текст и тексты\n",
      "\n",
      "pelem: Текст и тексты\n",
      "pelem: «Настройка» и «подписка» существуют только в единственном числе. Это все знают, потому что проверяли по словарю Ушакова.\n",
      "\n",
      "elem: А мне еще кажется, что «текст» тоже следует использовать только в единственном числе:\n",
      "\n",
      "pelem: «Настройка» и «подписка» существуют только в единственном числе. Это все знают, потому что проверяли по словарю Ушакова.\n",
      "pelem: А мне еще кажется, что «текст» тоже следует использовать только в единственном числе:\n",
      "pelem: Плохо\n",
      "\n",
      "elem: Написать тексты для сайта\n",
      "\n",
      "pelem: А мне еще кажется, что «текст» тоже следует использовать только в единственном числе:\n",
      "pelem: Плохо\n",
      "pelem: Написать тексты для сайта\n",
      "\n",
      "elem: Написать текст для сайта\n",
      "\n",
      "pelem: Плохо\n",
      "pelem: Написать тексты для сайта\n",
      "pelem: Написать текст для сайта\n",
      "\n",
      "elem: Написать текст сайта\n",
      "\n"
     ]
    }
   ],
   "source": [
    "with open('python_learning/content/some_text.txt') as some_text:\n",
    "    for elem, prev_elem in seq.search_and_scrop(some_text, \n",
    "                                                pattern='текст', N=3):\n",
    "        for pelem in prev_elem:\n",
    "            print('pelem: {0}'.format(pelem), end='')\n",
    "        print('\\nelem: {0}\\n'.format(elem), end='')"
   ]
  },
  {
   "cell_type": "markdown",
   "metadata": {},
   "source": [
    "## Получение N максимальных или минимальных элементов через поиск в куче"
   ]
  },
  {
   "cell_type": "code",
   "execution_count": 7,
   "metadata": {},
   "outputs": [
    {
     "data": {
      "text/plain": [
       "[9, 6, 9, 6, 12, 7, 13, 13, 14, 7]"
      ]
     },
     "execution_count": 7,
     "metadata": {},
     "output_type": "execute_result"
    }
   ],
   "source": [
    "import random\n",
    "nums = [random.randint(0, 15) for x in range(10)]\n",
    "nums"
   ]
  },
  {
   "cell_type": "code",
   "execution_count": 8,
   "metadata": {},
   "outputs": [
    {
     "data": {
      "text/plain": [
       "[6, 6, 7]"
      ]
     },
     "execution_count": 8,
     "metadata": {},
     "output_type": "execute_result"
    }
   ],
   "source": [
    "seq.searc_for_minmax(nums, mode=\"min\")"
   ]
  },
  {
   "cell_type": "code",
   "execution_count": 9,
   "metadata": {},
   "outputs": [
    {
     "data": {
      "text/plain": [
       "[14, 13, 13, 12, 9]"
      ]
     },
     "execution_count": 9,
     "metadata": {},
     "output_type": "execute_result"
    }
   ],
   "source": [
    "seq.searc_for_minmax(nums, mode=\"max\", N=5)"
   ]
  },
  {
   "cell_type": "code",
   "execution_count": 10,
   "metadata": {},
   "outputs": [
    {
     "data": {
      "text/plain": [
       "[[5, 14, 10, 13, 1, 5, 5, 1, 7, 15],\n",
       " [7, 7, 7, 11, 2, 14, 10, 9, 7, 8],\n",
       " [15, 0, 7, 0, 2, 14, 7, 10, 10, 1],\n",
       " [8, 15, 11, 8, 5, 7, 12, 8, 8, 9],\n",
       " [0, 2, 9, 2, 6, 11, 6, 14, 14, 15],\n",
       " [11, 7, 6, 14, 8, 8, 14, 11, 12, 2],\n",
       " [4, 4, 6, 1, 6, 13, 3, 0, 6, 2],\n",
       " [4, 2, 14, 5, 15, 5, 12, 10, 6, 0],\n",
       " [4, 6, 11, 15, 15, 10, 2, 11, 14, 5],\n",
       " [6, 3, 3, 8, 3, 12, 13, 4, 2, 14]]"
      ]
     },
     "execution_count": 10,
     "metadata": {},
     "output_type": "execute_result"
    }
   ],
   "source": [
    "mult_nums = [[random.randint(0, 15) for x in range(10)] for y in range(10)]\n",
    "mult_nums"
   ]
  },
  {
   "cell_type": "code",
   "execution_count": 11,
   "metadata": {},
   "outputs": [
    {
     "data": {
      "text/plain": [
       "[[0, 2, 9, 2, 6, 11, 6, 14, 14, 15], [4, 2, 14, 5, 15, 5, 12, 10, 6, 0]]"
      ]
     },
     "execution_count": 11,
     "metadata": {},
     "output_type": "execute_result"
    }
   ],
   "source": [
    "# two lists with smallest number in first 3 position\n",
    "seq.searc_for_minmax(mult_nums, mode=\"min\", key=lambda s: s[0:3], N=2)"
   ]
  },
  {
   "cell_type": "markdown",
   "metadata": {},
   "source": [
    "## Очередь с приоритетом"
   ]
  },
  {
   "cell_type": "code",
   "execution_count": 12,
   "metadata": {},
   "outputs": [
    {
     "data": {
      "text/plain": [
       "Item('bar')"
      ]
     },
     "execution_count": 12,
     "metadata": {},
     "output_type": "execute_result"
    }
   ],
   "source": [
    "q = seq.PriorityQueue()\n",
    "q.push(seq.Item('foo'), 1)\n",
    "q.push(seq.Item('bar'), 5)\n",
    "q.push(seq.Item('spam'), 4)\n",
    "q.push(seq.Item('grok'), 1)\n",
    "q.pop()"
   ]
  },
  {
   "cell_type": "code",
   "execution_count": 13,
   "metadata": {},
   "outputs": [
    {
     "data": {
      "text/plain": [
       "Item('spam')"
      ]
     },
     "execution_count": 13,
     "metadata": {},
     "output_type": "execute_result"
    }
   ],
   "source": [
    "q.pop()"
   ]
  },
  {
   "cell_type": "code",
   "execution_count": 14,
   "metadata": {},
   "outputs": [
    {
     "data": {
      "text/plain": [
       "Item('foo')"
      ]
     },
     "execution_count": 14,
     "metadata": {},
     "output_type": "execute_result"
    }
   ],
   "source": [
    "q.pop()"
   ]
  },
  {
   "cell_type": "code",
   "execution_count": 15,
   "metadata": {},
   "outputs": [
    {
     "data": {
      "text/plain": [
       "Item('grok')"
      ]
     },
     "execution_count": 15,
     "metadata": {},
     "output_type": "execute_result"
    }
   ],
   "source": [
    "q.pop()"
   ]
  },
  {
   "cell_type": "markdown",
   "metadata": {},
   "source": [
    "## Отображение ключей словаря на неск.значений\n",
    "\n",
    "Если надо отобразить ключ более чем на одно значение, используется list или set\n",
    "\n",
    "list - для сохранения упорядоченности\n",
    "\n",
    "set - для устранения дубликатов\n",
    "\n",
    "```python\n",
    "\n",
    "a = {'b': [1, 2, 3]}\n",
    "```"
   ]
  },
  {
   "cell_type": "markdown",
   "metadata": {},
   "source": [
    "### Вариант 1. Через defaultdict\n",
    "\n",
    "*автоматически создает запись словаря для ключей, даже если в данный момент их нет в словаре"
   ]
  },
  {
   "cell_type": "code",
   "execution_count": 18,
   "metadata": {},
   "outputs": [
    {
     "data": {
      "text/plain": [
       "defaultdict(list, {'a': [1, 2]})"
      ]
     },
     "execution_count": 18,
     "metadata": {},
     "output_type": "execute_result"
    }
   ],
   "source": [
    "from collections import defaultdict\n",
    "\n",
    "d = defaultdict(list)\n",
    "d['a'].append(1)\n",
    "d['a'].append(2)\n",
    "d"
   ]
  },
  {
   "cell_type": "code",
   "execution_count": 20,
   "metadata": {},
   "outputs": [
    {
     "data": {
      "text/plain": [
       "defaultdict(set, {'a': {1, 2}})"
      ]
     },
     "execution_count": 20,
     "metadata": {},
     "output_type": "execute_result"
    }
   ],
   "source": [
    "d = defaultdict(set)\n",
    "d['a'].add(1)\n",
    "d['a'].add(2)\n",
    "d['a'].add(1)\n",
    "d"
   ]
  },
  {
   "cell_type": "markdown",
   "metadata": {},
   "source": [
    "### Вариант 2. Через setdefault для обычного словаря"
   ]
  },
  {
   "cell_type": "code",
   "execution_count": 21,
   "metadata": {},
   "outputs": [
    {
     "data": {
      "text/plain": [
       "{'a': [1, 2]}"
      ]
     },
     "execution_count": 21,
     "metadata": {},
     "output_type": "execute_result"
    }
   ],
   "source": [
    "d = {}\n",
    "d.setdefault('a', []).append(1)\n",
    "d.setdefault('a', []).append(2)\n",
    "d"
   ]
  },
  {
   "cell_type": "code",
   "execution_count": null,
   "metadata": {},
   "outputs": [],
   "source": []
  }
 ],
 "metadata": {
  "kernelspec": {
   "display_name": "Python 3",
   "language": "python",
   "name": "python3"
  },
  "language_info": {
   "codemirror_mode": {
    "name": "ipython",
    "version": 3
   },
   "file_extension": ".py",
   "mimetype": "text/x-python",
   "name": "python",
   "nbconvert_exporter": "python",
   "pygments_lexer": "ipython3",
   "version": "3.7.7"
  }
 },
 "nbformat": 4,
 "nbformat_minor": 4
}
