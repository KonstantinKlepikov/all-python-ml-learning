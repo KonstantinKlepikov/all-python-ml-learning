{
 "cells": [
  {
   "cell_type": "code",
   "execution_count": 1,
   "metadata": {},
   "outputs": [],
   "source": [
    "from python_learning import sequences as seq"
   ]
  },
  {
   "cell_type": "markdown",
   "metadata": {},
   "source": [
    "## Распаковка элементов из произвольной последовательности"
   ]
  },
  {
   "cell_type": "code",
   "execution_count": 2,
   "metadata": {},
   "outputs": [
    {
     "data": {
      "text/plain": [
       "[0, 1, 2, 3, 4, 5, 6, 7, 8, 9]"
      ]
     },
     "execution_count": 2,
     "metadata": {},
     "output_type": "execute_result"
    }
   ],
   "source": [
    "arb_len_seq = list(range(10))\n",
    "arb_len_seq"
   ]
  },
  {
   "cell_type": "code",
   "execution_count": 3,
   "metadata": {},
   "outputs": [
    {
     "data": {
      "text/plain": [
       "0"
      ]
     },
     "execution_count": 3,
     "metadata": {},
     "output_type": "execute_result"
    }
   ],
   "source": [
    "seq.arbitrary_len(arb_len_seq, mode=\"first\")"
   ]
  },
  {
   "cell_type": "code",
   "execution_count": 4,
   "metadata": {},
   "outputs": [
    {
     "data": {
      "text/plain": [
       "[1, 2, 3, 4, 5, 6, 7, 8]"
      ]
     },
     "execution_count": 4,
     "metadata": {},
     "output_type": "execute_result"
    }
   ],
   "source": [
    "seq.arbitrary_len(arb_len_seq, mode=\"middle\")"
   ]
  },
  {
   "cell_type": "code",
   "execution_count": 5,
   "metadata": {},
   "outputs": [
    {
     "data": {
      "text/plain": [
       "9"
      ]
     },
     "execution_count": 5,
     "metadata": {},
     "output_type": "execute_result"
    }
   ],
   "source": [
    "seq.arbitrary_len(arb_len_seq, mode=\"last\")"
   ]
  },
  {
   "cell_type": "markdown",
   "metadata": {},
   "source": [
    "## Получение N последних элементов последовательности"
   ]
  },
  {
   "cell_type": "code",
   "execution_count": 6,
   "metadata": {},
   "outputs": [
    {
     "name": "stdout",
     "output_type": "stream",
     "text": [
      "\n",
      "elem: Текст и тексты\n",
      "\n",
      "pelem: Текст и тексты\n",
      "pelem: «Настройка» и «подписка» существуют только в единственном числе. Это все знают, потому что проверяли по словарю Ушакова.\n",
      "\n",
      "elem: А мне еще кажется, что «текст» тоже следует использовать только в единственном числе:\n",
      "\n",
      "pelem: «Настройка» и «подписка» существуют только в единственном числе. Это все знают, потому что проверяли по словарю Ушакова.\n",
      "pelem: А мне еще кажется, что «текст» тоже следует использовать только в единственном числе:\n",
      "pelem: Плохо\n",
      "\n",
      "elem: Написать тексты для сайта\n",
      "\n",
      "pelem: А мне еще кажется, что «текст» тоже следует использовать только в единственном числе:\n",
      "pelem: Плохо\n",
      "pelem: Написать тексты для сайта\n",
      "\n",
      "elem: Написать текст для сайта\n",
      "\n",
      "pelem: Плохо\n",
      "pelem: Написать тексты для сайта\n",
      "pelem: Написать текст для сайта\n",
      "\n",
      "elem: Написать текст сайта\n",
      "\n"
     ]
    }
   ],
   "source": [
    "with open('python_learning/content/some_text.txt') as some_text:\n",
    "    for elem, prev_elem in seq.search_and_scrop(some_text, \n",
    "                                                pattern='текст', N=3):\n",
    "        for pelem in prev_elem:\n",
    "            print('pelem: {0}'.format(pelem), end='')\n",
    "        print('\\nelem: {0}\\n'.format(elem), end='')"
   ]
  },
  {
   "cell_type": "markdown",
   "metadata": {},
   "source": [
    "## Получение N максимальных или минимальных элементов через поиск в куче"
   ]
  },
  {
   "cell_type": "code",
   "execution_count": 7,
   "metadata": {},
   "outputs": [
    {
     "data": {
      "text/plain": [
       "[0, 6, 1, 10, 4, 3, 3, 14, 8, 4]"
      ]
     },
     "execution_count": 7,
     "metadata": {},
     "output_type": "execute_result"
    }
   ],
   "source": [
    "import random\n",
    "nums = [random.randint(0, 15) for x in range(10)]\n",
    "nums"
   ]
  },
  {
   "cell_type": "code",
   "execution_count": 8,
   "metadata": {},
   "outputs": [
    {
     "data": {
      "text/plain": [
       "[0, 1, 3]"
      ]
     },
     "execution_count": 8,
     "metadata": {},
     "output_type": "execute_result"
    }
   ],
   "source": [
    "seq.searc_for_minmax(nums, mode=\"min\")"
   ]
  },
  {
   "cell_type": "code",
   "execution_count": 9,
   "metadata": {},
   "outputs": [
    {
     "data": {
      "text/plain": [
       "[14, 10, 8, 6, 4]"
      ]
     },
     "execution_count": 9,
     "metadata": {},
     "output_type": "execute_result"
    }
   ],
   "source": [
    "seq.searc_for_minmax(nums, mode=\"max\", N=5)"
   ]
  },
  {
   "cell_type": "code",
   "execution_count": 10,
   "metadata": {},
   "outputs": [
    {
     "data": {
      "text/plain": [
       "[[6, 15, 13, 5, 14, 6, 15, 2, 3, 0],\n",
       " [11, 15, 15, 15, 5, 11, 6, 8, 12, 15],\n",
       " [12, 7, 2, 5, 6, 12, 1, 3, 0, 9],\n",
       " [5, 11, 15, 4, 1, 10, 15, 9, 11, 4],\n",
       " [12, 0, 4, 5, 12, 3, 6, 8, 15, 11],\n",
       " [12, 4, 6, 4, 15, 3, 8, 2, 9, 4],\n",
       " [8, 14, 11, 8, 4, 2, 2, 7, 10, 11],\n",
       " [12, 0, 10, 9, 6, 14, 2, 1, 0, 3],\n",
       " [7, 5, 5, 9, 7, 0, 6, 2, 13, 8],\n",
       " [10, 14, 15, 14, 15, 6, 13, 10, 11, 8]]"
      ]
     },
     "execution_count": 10,
     "metadata": {},
     "output_type": "execute_result"
    }
   ],
   "source": [
    "mult_nums = [[random.randint(0, 15) for x in range(10)] for y in range(10)]\n",
    "mult_nums"
   ]
  },
  {
   "cell_type": "code",
   "execution_count": 11,
   "metadata": {},
   "outputs": [
    {
     "data": {
      "text/plain": [
       "[[5, 11, 15, 4, 1, 10, 15, 9, 11, 4], [6, 15, 13, 5, 14, 6, 15, 2, 3, 0]]"
      ]
     },
     "execution_count": 11,
     "metadata": {},
     "output_type": "execute_result"
    }
   ],
   "source": [
    "# two lists with smallest number in first 3 position\n",
    "seq.searc_for_minmax(mult_nums, mode=\"min\", key=lambda s: s[0:3], N=2)"
   ]
  },
  {
   "cell_type": "markdown",
   "metadata": {},
   "source": [
    "## Очередь с приоритетом"
   ]
  },
  {
   "cell_type": "code",
   "execution_count": 12,
   "metadata": {},
   "outputs": [
    {
     "data": {
      "text/plain": [
       "Item('bar')"
      ]
     },
     "execution_count": 12,
     "metadata": {},
     "output_type": "execute_result"
    }
   ],
   "source": [
    "q = seq.PriorityQueue()\n",
    "q.push(seq.Item('foo'), 1)\n",
    "q.push(seq.Item('bar'), 5)\n",
    "q.push(seq.Item('spam'), 4)\n",
    "q.push(seq.Item('grok'), 1)\n",
    "q.pop()"
   ]
  },
  {
   "cell_type": "code",
   "execution_count": 13,
   "metadata": {},
   "outputs": [
    {
     "data": {
      "text/plain": [
       "Item('spam')"
      ]
     },
     "execution_count": 13,
     "metadata": {},
     "output_type": "execute_result"
    }
   ],
   "source": [
    "q.pop()"
   ]
  },
  {
   "cell_type": "code",
   "execution_count": 14,
   "metadata": {},
   "outputs": [
    {
     "data": {
      "text/plain": [
       "Item('foo')"
      ]
     },
     "execution_count": 14,
     "metadata": {},
     "output_type": "execute_result"
    }
   ],
   "source": [
    "q.pop()"
   ]
  },
  {
   "cell_type": "code",
   "execution_count": 15,
   "metadata": {},
   "outputs": [
    {
     "data": {
      "text/plain": [
       "Item('grok')"
      ]
     },
     "execution_count": 15,
     "metadata": {},
     "output_type": "execute_result"
    }
   ],
   "source": [
    "q.pop()"
   ]
  },
  {
   "cell_type": "markdown",
   "metadata": {},
   "source": [
    "## Отображение ключей словаря на неск.значений\n",
    "\n",
    "Если надо отобразить ключ более чем на одно значение, используется list или set\n",
    "\n",
    "list - для сохранения упорядоченности\n",
    "\n",
    "set - для устранения дубликатов\n",
    "\n",
    "```python\n",
    "\n",
    "a = {'b': [1, 2, 3]}\n",
    "```"
   ]
  },
  {
   "cell_type": "markdown",
   "metadata": {},
   "source": [
    "### Вариант 1. Через defaultdict\n",
    "\n",
    "*автоматически создает запись словаря для ключей, даже если в данный момент их нет в словаре"
   ]
  },
  {
   "cell_type": "code",
   "execution_count": 16,
   "metadata": {},
   "outputs": [
    {
     "data": {
      "text/plain": [
       "defaultdict(list, {'a': [1, 2]})"
      ]
     },
     "execution_count": 16,
     "metadata": {},
     "output_type": "execute_result"
    }
   ],
   "source": [
    "from collections import defaultdict\n",
    "\n",
    "d = defaultdict(list)\n",
    "d['a'].append(1)\n",
    "d['a'].append(2)\n",
    "d"
   ]
  },
  {
   "cell_type": "code",
   "execution_count": 17,
   "metadata": {},
   "outputs": [
    {
     "data": {
      "text/plain": [
       "defaultdict(set, {'a': {1, 2}})"
      ]
     },
     "execution_count": 17,
     "metadata": {},
     "output_type": "execute_result"
    }
   ],
   "source": [
    "d = defaultdict(set)\n",
    "d['a'].add(1)\n",
    "d['a'].add(2)\n",
    "d['a'].add(1)\n",
    "d"
   ]
  },
  {
   "cell_type": "markdown",
   "metadata": {},
   "source": [
    "### Вариант 2. Через setdefault для обычного словаря"
   ]
  },
  {
   "cell_type": "code",
   "execution_count": 18,
   "metadata": {},
   "outputs": [
    {
     "data": {
      "text/plain": [
       "{'a': [1, 2]}"
      ]
     },
     "execution_count": 18,
     "metadata": {},
     "output_type": "execute_result"
    }
   ],
   "source": [
    "d = {}\n",
    "d.setdefault('a', []).append(1)\n",
    "d.setdefault('a', []).append(2)\n",
    "d"
   ]
  },
  {
   "cell_type": "markdown",
   "metadata": {},
   "source": [
    "## OrderdDict\n",
    "\n",
    "Не смотря на то, что с 3.6 словари упорядочены, поддерживается OrderdDict, который удобно использовать для сериализации или кодирования в другой формат словарей\n",
    "\n",
    "<span class=\"mark\">Дорого по памяти и начиная с 3.7 это legacy</span>"
   ]
  },
  {
   "cell_type": "code",
   "execution_count": 19,
   "metadata": {},
   "outputs": [
    {
     "name": "stdout",
     "output_type": "stream",
     "text": [
      "one 1\n",
      "two 2\n",
      "three 3\n"
     ]
    }
   ],
   "source": [
    "from collections import OrderedDict\n",
    "\n",
    "d = OrderedDict()\n",
    "d['one'] = 1\n",
    "d['two'] = 2\n",
    "d['three'] = 3\n",
    "for key in d:\n",
    "    print(key, d[key])"
   ]
  },
  {
   "cell_type": "markdown",
   "metadata": {},
   "source": [
    "## Получение ключа значения словаря, соответствующего некоторой вычислительной метрике\n",
    "\n",
    "Используется zip() для обращения ключей и значений в последовательность пар (значение, ключ). Значения в таком случае будут использоваться в метриках первыми, а при их равестве - ключи. Это удобно для min/max \n",
    "\n",
    "<span class=\"burk\">Важно</span>: zip() вернет итератор, по которому можно проти только один раз."
   ]
  },
  {
   "cell_type": "code",
   "execution_count": 20,
   "metadata": {},
   "outputs": [
    {
     "data": {
      "text/plain": [
       "(24.2, 'who')"
      ]
     },
     "execution_count": 20,
     "metadata": {},
     "output_type": "execute_result"
    }
   ],
   "source": [
    "for_met = {\n",
    "    'what': 34.5,\n",
    "    'where': 56.7,\n",
    "    'who': 24.2\n",
    "}\n",
    "seq.dict_val_comparison(for_met, mode='min')"
   ]
  },
  {
   "cell_type": "code",
   "execution_count": 21,
   "metadata": {},
   "outputs": [
    {
     "data": {
      "text/plain": [
       "(56.7, 'where')"
      ]
     },
     "execution_count": 21,
     "metadata": {},
     "output_type": "execute_result"
    }
   ],
   "source": [
    "seq.dict_val_comparison(for_met, mode='max')"
   ]
  },
  {
   "cell_type": "code",
   "execution_count": 22,
   "metadata": {},
   "outputs": [
    {
     "data": {
      "text/plain": [
       "[(24.2, 'who'), (34.5, 'what'), (56.7, 'where')]"
      ]
     },
     "execution_count": 22,
     "metadata": {},
     "output_type": "execute_result"
    }
   ],
   "source": [
    "seq.dict_val_comparison(for_met, mode='sorted')"
   ]
  },
  {
   "cell_type": "code",
   "execution_count": 23,
   "metadata": {},
   "outputs": [],
   "source": [
    "# тоже самое через ООП\n",
    "met = seq.DictValComparison(for_met)"
   ]
  },
  {
   "cell_type": "code",
   "execution_count": 24,
   "metadata": {},
   "outputs": [
    {
     "data": {
      "text/plain": [
       "(24.2, 'who')"
      ]
     },
     "execution_count": 24,
     "metadata": {},
     "output_type": "execute_result"
    }
   ],
   "source": [
    "met.compMin()"
   ]
  },
  {
   "cell_type": "code",
   "execution_count": 25,
   "metadata": {},
   "outputs": [
    {
     "data": {
      "text/plain": [
       "(56.7, 'where')"
      ]
     },
     "execution_count": 25,
     "metadata": {},
     "output_type": "execute_result"
    }
   ],
   "source": [
    "met.compMax()"
   ]
  },
  {
   "cell_type": "code",
   "execution_count": 26,
   "metadata": {},
   "outputs": [
    {
     "data": {
      "text/plain": [
       "[(24.2, 'who'), (34.5, 'what'), (56.7, 'where')]"
      ]
     },
     "execution_count": 26,
     "metadata": {},
     "output_type": "execute_result"
    }
   ],
   "source": [
    "met.compSort()"
   ]
  },
  {
   "cell_type": "markdown",
   "metadata": {},
   "source": [
    "## Поиск общих элементов в словарях\n",
    "\n",
    "- keys() возвращает объект, который поддерживает операции над множествами\n",
    "- items() возвращает пары ключ и значение и тоже поддерживает операции над множествами\n",
    "- values() операции над множествами не поддерживает\n"
   ]
  },
  {
   "cell_type": "code",
   "execution_count": 27,
   "metadata": {},
   "outputs": [],
   "source": [
    "a = {\n",
    "    'x': 1,\n",
    "    'y': 2,\n",
    "    'z': 3\n",
    "}\n",
    "b = {\n",
    "    'w': 0,\n",
    "    'x': 1,\n",
    "    'y': 2\n",
    "}"
   ]
  },
  {
   "cell_type": "code",
   "execution_count": 28,
   "metadata": {},
   "outputs": [
    {
     "data": {
      "text/plain": [
       "{'x', 'y'}"
      ]
     },
     "execution_count": 28,
     "metadata": {},
     "output_type": "execute_result"
    }
   ],
   "source": [
    "# пересечение ключей\n",
    "a.keys() & b.keys()"
   ]
  },
  {
   "cell_type": "code",
   "execution_count": 29,
   "metadata": {},
   "outputs": [
    {
     "data": {
      "text/plain": [
       "{'z'}"
      ]
     },
     "execution_count": 29,
     "metadata": {},
     "output_type": "execute_result"
    }
   ],
   "source": [
    "# разность ключей\n",
    "a.keys() - b.keys()"
   ]
  },
  {
   "cell_type": "code",
   "execution_count": 30,
   "metadata": {},
   "outputs": [
    {
     "data": {
      "text/plain": [
       "{'w'}"
      ]
     },
     "execution_count": 30,
     "metadata": {},
     "output_type": "execute_result"
    }
   ],
   "source": [
    "b.keys() - a.keys()"
   ]
  },
  {
   "cell_type": "code",
   "execution_count": 31,
   "metadata": {},
   "outputs": [
    {
     "data": {
      "text/plain": [
       "{'w', 'x', 'y', 'z'}"
      ]
     },
     "execution_count": 31,
     "metadata": {},
     "output_type": "execute_result"
    }
   ],
   "source": [
    "# объединение ключей\n",
    "a.keys() | b.keys()"
   ]
  },
  {
   "cell_type": "code",
   "execution_count": 32,
   "metadata": {},
   "outputs": [
    {
     "data": {
      "text/plain": [
       "{('x', 1), ('y', 2)}"
      ]
     },
     "execution_count": 32,
     "metadata": {},
     "output_type": "execute_result"
    }
   ],
   "source": [
    "# пересечение пар\n",
    "a.items() & b.items()"
   ]
  },
  {
   "cell_type": "code",
   "execution_count": 33,
   "metadata": {},
   "outputs": [],
   "source": [
    "# новый словарь (удалим общие пары)\n",
    "c = {key:a[key] for key in a.keys() - (a.keys() & b.keys())}"
   ]
  },
  {
   "cell_type": "code",
   "execution_count": 34,
   "metadata": {},
   "outputs": [
    {
     "data": {
      "text/plain": [
       "{'z': 3}"
      ]
     },
     "execution_count": 34,
     "metadata": {},
     "output_type": "execute_result"
    }
   ],
   "source": [
    "c"
   ]
  },
  {
   "cell_type": "markdown",
   "metadata": {},
   "source": [
    "## Удаление дубликатов из последовательностей с сохранением порядка\n",
    "\n",
    "Используем массивы для удалениядублей, при этом сохраняем порядок элементов. Для нехешируемых последовательностей (например для списков словарей) используем аргумнт k, в котором задаем список элементов последовательности, по которым будем дедублицировать."
   ]
  },
  {
   "cell_type": "code",
   "execution_count": 35,
   "metadata": {},
   "outputs": [],
   "source": [
    "def dedubl(some_seq, key=None):\n",
    "    dd = seq.Deuduliacate(some_seq)\n",
    "    try:\n",
    "        return list(dd.dedubl_hash())\n",
    "    except TypeError:\n",
    "        return list(dd.dedubl_nonhash(key))"
   ]
  },
  {
   "cell_type": "code",
   "execution_count": 36,
   "metadata": {},
   "outputs": [
    {
     "data": {
      "text/plain": [
       "[1, 15, 9, 12, 9, 14, 14, 8, 9, 12]"
      ]
     },
     "execution_count": 36,
     "metadata": {},
     "output_type": "execute_result"
    }
   ],
   "source": [
    "nums = [random.randint(0, 15) for x in range(10)]\n",
    "nums"
   ]
  },
  {
   "cell_type": "code",
   "execution_count": 37,
   "metadata": {},
   "outputs": [
    {
     "data": {
      "text/plain": [
       "[1, 15, 9, 12, 14, 8]"
      ]
     },
     "execution_count": 37,
     "metadata": {},
     "output_type": "execute_result"
    }
   ],
   "source": [
    "dedubl(nums)"
   ]
  },
  {
   "cell_type": "code",
   "execution_count": 38,
   "metadata": {},
   "outputs": [],
   "source": [
    "nonhash = [\n",
    "    {'a': 1, 'b': 3},\n",
    "    {'a': 1, 'b': 2},\n",
    "    {'a': 2, 'b': 3},\n",
    "    {'a': 2, 'b': 3}\n",
    "]"
   ]
  },
  {
   "cell_type": "code",
   "execution_count": 39,
   "metadata": {},
   "outputs": [
    {
     "data": {
      "text/plain": [
       "[{'a': 1, 'b': 3}, {'a': 2, 'b': 3}]"
      ]
     },
     "execution_count": 39,
     "metadata": {},
     "output_type": "execute_result"
    }
   ],
   "source": [
    "dedubl(nonhash, key=lambda x: x['a'])"
   ]
  },
  {
   "cell_type": "code",
   "execution_count": 40,
   "metadata": {},
   "outputs": [
    {
     "data": {
      "text/plain": [
       "[{'a': 1, 'b': 3}, {'a': 1, 'b': 2}]"
      ]
     },
     "execution_count": 40,
     "metadata": {},
     "output_type": "execute_result"
    }
   ],
   "source": [
    "dedubl(nonhash, key=lambda x: x['b'])"
   ]
  },
  {
   "cell_type": "code",
   "execution_count": 41,
   "metadata": {},
   "outputs": [
    {
     "data": {
      "text/plain": [
       "[{'a': 1, 'b': 3}, {'a': 1, 'b': 2}, {'a': 2, 'b': 3}]"
      ]
     },
     "execution_count": 41,
     "metadata": {},
     "output_type": "execute_result"
    }
   ],
   "source": [
    "dedubl(nonhash, key=lambda x: (x['a'],x['b']))"
   ]
  },
  {
   "cell_type": "markdown",
   "metadata": {},
   "source": [
    "## Присваивание имен срезам\n",
    "\n",
    "Можно использовать встроенную функцию slice()? которая возвращает объект среза"
   ]
  },
  {
   "cell_type": "code",
   "execution_count": 42,
   "metadata": {},
   "outputs": [
    {
     "data": {
      "text/plain": [
       "[8, 11, 2, 0, 2, 10, 15, 9, 9, 13]"
      ]
     },
     "execution_count": 42,
     "metadata": {},
     "output_type": "execute_result"
    }
   ],
   "source": [
    "nums = [random.randint(0, 15) for x in range(10)]\n",
    "nums"
   ]
  },
  {
   "cell_type": "code",
   "execution_count": 43,
   "metadata": {},
   "outputs": [
    {
     "data": {
      "text/plain": [
       "slice(2, 9, 2)"
      ]
     },
     "execution_count": 43,
     "metadata": {},
     "output_type": "execute_result"
    }
   ],
   "source": [
    "a = slice(2, 9, 2)\n",
    "a"
   ]
  },
  {
   "cell_type": "code",
   "execution_count": 44,
   "metadata": {},
   "outputs": [
    {
     "data": {
      "text/plain": [
       "2"
      ]
     },
     "execution_count": 44,
     "metadata": {},
     "output_type": "execute_result"
    }
   ],
   "source": [
    "a.start"
   ]
  },
  {
   "cell_type": "code",
   "execution_count": 45,
   "metadata": {},
   "outputs": [
    {
     "data": {
      "text/plain": [
       "9"
      ]
     },
     "execution_count": 45,
     "metadata": {},
     "output_type": "execute_result"
    }
   ],
   "source": [
    "a.stop"
   ]
  },
  {
   "cell_type": "code",
   "execution_count": 46,
   "metadata": {},
   "outputs": [
    {
     "data": {
      "text/plain": [
       "2"
      ]
     },
     "execution_count": 46,
     "metadata": {},
     "output_type": "execute_result"
    }
   ],
   "source": [
    "a.step"
   ]
  },
  {
   "cell_type": "code",
   "execution_count": 47,
   "metadata": {},
   "outputs": [
    {
     "data": {
      "text/plain": [
       "[2, 2, 15, 9]"
      ]
     },
     "execution_count": 47,
     "metadata": {},
     "output_type": "execute_result"
    }
   ],
   "source": [
    "nums[2:9:2]"
   ]
  },
  {
   "cell_type": "code",
   "execution_count": 48,
   "metadata": {},
   "outputs": [
    {
     "data": {
      "text/plain": [
       "[2, 2, 15, 9]"
      ]
     },
     "execution_count": 48,
     "metadata": {},
     "output_type": "execute_result"
    }
   ],
   "source": [
    "nums[a]"
   ]
  },
  {
   "cell_type": "markdown",
   "metadata": {},
   "source": [
    "С помощью метода indices(size) можно получить кортеж start, stop, step со значениями, ограниченными, так чтобы вписаться в границы"
   ]
  },
  {
   "cell_type": "code",
   "execution_count": 49,
   "metadata": {},
   "outputs": [
    {
     "data": {
      "text/plain": [
       "(2, 8, 2)"
      ]
     },
     "execution_count": 49,
     "metadata": {},
     "output_type": "execute_result"
    }
   ],
   "source": [
    "word = 'someword'\n",
    "a.indices(len(word))"
   ]
  },
  {
   "cell_type": "code",
   "execution_count": 50,
   "metadata": {},
   "outputs": [
    {
     "data": {
      "text/plain": [
       "['m', 'w', 'r']"
      ]
     },
     "execution_count": 50,
     "metadata": {},
     "output_type": "execute_result"
    }
   ],
   "source": [
    "[word[i] for i in range(*a.indices(len(word)))]"
   ]
  },
  {
   "cell_type": "markdown",
   "metadata": {},
   "source": [
    "## Подсчет элементов в последовательности\n",
    "\n",
    "Наиболее часто встречающиеся с помощью Counter и метода most_common()\n",
    "\n",
    "Объект Counter(), который из себя представляет словарь вида item: frequincy так-же поддерживает арифметические операции"
   ]
  },
  {
   "cell_type": "code",
   "execution_count": 51,
   "metadata": {},
   "outputs": [],
   "source": [
    "words = ['aaa', 'bbb', 'ccc', 'ddd', 'aaa',\n",
    "        'zzz', 'aaa', 'bbb', 'ccc', 'ddd',\n",
    "        'bbb', 'ccc', 'aaa', 'bbb', 'aaa',\n",
    "        'ccc', 'zzz', 'aaa', 'bbb', 'iii']"
   ]
  },
  {
   "cell_type": "code",
   "execution_count": 52,
   "metadata": {},
   "outputs": [],
   "source": [
    "ww = seq.CountsOfItems(words)"
   ]
  },
  {
   "cell_type": "code",
   "execution_count": 53,
   "metadata": {},
   "outputs": [
    {
     "data": {
      "text/plain": [
       "[('aaa', 6), ('bbb', 5), ('ccc', 4)]"
      ]
     },
     "execution_count": 53,
     "metadata": {},
     "output_type": "execute_result"
    }
   ],
   "source": [
    "ww.most_freq(3)"
   ]
  },
  {
   "cell_type": "code",
   "execution_count": 54,
   "metadata": {},
   "outputs": [],
   "source": [
    "another_words = ['aaa', 'bbb', 'ccc', 'ddd', 'aaa',\n",
    "                'zzz', 'aaa', 'bbb', 'ccc', 'ddd',\n",
    "                'bbb', 'ccc', 'aaa', 'bbb', 'aaa']"
   ]
  },
  {
   "cell_type": "code",
   "execution_count": 55,
   "metadata": {},
   "outputs": [
    {
     "data": {
      "text/plain": [
       "[('aaa', 11), ('bbb', 9)]"
      ]
     },
     "execution_count": 55,
     "metadata": {},
     "output_type": "execute_result"
    }
   ],
   "source": [
    "ww.most_freq_operation(another_words, N=2, mode=\"sum\")"
   ]
  },
  {
   "cell_type": "code",
   "execution_count": 56,
   "metadata": {},
   "outputs": [
    {
     "data": {
      "text/plain": [
       "[('aaa', 1), ('bbb', 1)]"
      ]
     },
     "execution_count": 56,
     "metadata": {},
     "output_type": "execute_result"
    }
   ],
   "source": [
    "ww.most_freq_operation(another_words, N=2, mode=\"diff\")"
   ]
  },
  {
   "cell_type": "markdown",
   "metadata": {},
   "source": [
    "## Сортировка списка словарей по общему ключу\n",
    "\n",
    "функция itemgetter модуля operator"
   ]
  },
  {
   "cell_type": "code",
   "execution_count": 57,
   "metadata": {},
   "outputs": [],
   "source": [
    "rows = [\n",
    "    {'this': 1000, 'that': 'aaaa'},\n",
    "    {'this': 1200, 'that': 'eeee'},\n",
    "    {'this': 4000, 'that': 'bbbb'},\n",
    "    {'this': 500, 'that': 'zzzz'},\n",
    "]"
   ]
  },
  {
   "cell_type": "code",
   "execution_count": 58,
   "metadata": {},
   "outputs": [],
   "source": [
    "from operator import itemgetter\n",
    "r_sorted_1 = sorted(rows, key=itemgetter('this'))\n",
    "r_sorted_2 = sorted(rows, key=itemgetter('that'))"
   ]
  },
  {
   "cell_type": "code",
   "execution_count": 59,
   "metadata": {},
   "outputs": [
    {
     "data": {
      "text/plain": [
       "[{'this': 500, 'that': 'zzzz'},\n",
       " {'this': 1000, 'that': 'aaaa'},\n",
       " {'this': 1200, 'that': 'eeee'},\n",
       " {'this': 4000, 'that': 'bbbb'}]"
      ]
     },
     "execution_count": 59,
     "metadata": {},
     "output_type": "execute_result"
    }
   ],
   "source": [
    "r_sorted_1"
   ]
  },
  {
   "cell_type": "code",
   "execution_count": 60,
   "metadata": {},
   "outputs": [
    {
     "data": {
      "text/plain": [
       "[{'this': 1000, 'that': 'aaaa'},\n",
       " {'this': 4000, 'that': 'bbbb'},\n",
       " {'this': 1200, 'that': 'eeee'},\n",
       " {'this': 500, 'that': 'zzzz'}]"
      ]
     },
     "execution_count": 60,
     "metadata": {},
     "output_type": "execute_result"
    }
   ],
   "source": [
    "r_sorted_2"
   ]
  },
  {
   "cell_type": "code",
   "execution_count": 61,
   "metadata": {},
   "outputs": [
    {
     "data": {
      "text/plain": [
       "[{'this': 500, 'that': 'zzzz'},\n",
       " {'this': 1000, 'that': 'aaaa'},\n",
       " {'this': 1200, 'that': 'eeee'},\n",
       " {'this': 4000, 'that': 'bbbb'}]"
      ]
     },
     "execution_count": 61,
     "metadata": {},
     "output_type": "execute_result"
    }
   ],
   "source": [
    "r_sorted_3 = sorted(rows, key=itemgetter('this', 'that'))\n",
    "r_sorted_3"
   ]
  },
  {
   "cell_type": "markdown",
   "metadata": {},
   "source": [
    "Функция itemgetter() создает итерируемый объект, который принимает элемент из последовательности и возвращает значение, которое будет использовано для сортировки\n",
    "\n",
    "Соответственно sorted() принимает в качестве аргумента key не только объекты itemgetter(), но и, к примеру, lambda-функции. Itemgetter() обычно быстрее\n",
    "\n",
    "Так-же можно применять и к min()/max()"
   ]
  },
  {
   "cell_type": "markdown",
   "metadata": {},
   "source": [
    "#### Сортировка объектов, не поддерживающих сравнение\n",
    "\n",
    "Можно попробовать отсортировать по значениям, содержащимся в атрибутах, например в атрибутах экземпляров класса, подав их в sorted() через атрибут key в lambda или через operator.attgetter()"
   ]
  },
  {
   "cell_type": "code",
   "execution_count": 62,
   "metadata": {},
   "outputs": [],
   "source": [
    "members = [seq.Member(22), seq.Member(115), seq.Member(12)]"
   ]
  },
  {
   "cell_type": "code",
   "execution_count": 63,
   "metadata": {},
   "outputs": [
    {
     "data": {
      "text/plain": [
       "[Member(22), Member(115), Member(12)]"
      ]
     },
     "execution_count": 63,
     "metadata": {},
     "output_type": "execute_result"
    }
   ],
   "source": [
    "members"
   ]
  },
  {
   "cell_type": "code",
   "execution_count": 64,
   "metadata": {},
   "outputs": [
    {
     "data": {
      "text/plain": [
       "[Member(12), Member(22), Member(115)]"
      ]
     },
     "execution_count": 64,
     "metadata": {},
     "output_type": "execute_result"
    }
   ],
   "source": [
    "sorted(members, key=lambda z: z.member_id)"
   ]
  },
  {
   "cell_type": "code",
   "execution_count": 65,
   "metadata": {},
   "outputs": [
    {
     "data": {
      "text/plain": [
       "[Member(12), Member(22), Member(115)]"
      ]
     },
     "execution_count": 65,
     "metadata": {},
     "output_type": "execute_result"
    }
   ],
   "source": [
    "# более явный с точки зрения семантики кода вариант. К тому же так быстрее и позволяет извлечь несколько полей\n",
    "from operator import attrgetter\n",
    "\n",
    "sorted(members, key=attrgetter('member_id'))"
   ]
  },
  {
   "cell_type": "markdown",
   "metadata": {},
   "source": [
    "## Группировка словарей в последовательности по значениям ключей\n",
    "\n",
    "itemgetter() для сортировки\n",
    "groupby() для итерации в группах\n",
    "\n",
    "groupby() сканирует последовательность и ищетпоследовательные партии одинаковых значений. В каждой итерации фцнкция возвращает значение вместе с итератором, который выводит все элементы в группу с одинаковым значением\n",
    "\n",
    "Для groupby() требуется предварительная сортировка, так как метод проверяет только последовательные элементы"
   ]
  },
  {
   "cell_type": "code",
   "execution_count": 66,
   "metadata": {},
   "outputs": [],
   "source": [
    "rows = [\n",
    "    {'rhis': '12345', 'date': '07/07/2020'},\n",
    "    {'rhis': '55555', 'date': '07/07/2020'},\n",
    "    {'rhis': '55455', 'date': '15/11/2020'},\n",
    "    {'rhis': '90909', 'date': '15/01/2020'},\n",
    "    {'rhis': '70707', 'date': '07/12/2015'},\n",
    "    {'rhis': '33333', 'date': '03/01/2020'},\n",
    "    {'rhis': '44444', 'date': '15/01/2020'},\n",
    "    {'rhis': '12222', 'date': '15/01/2020'},\n",
    "    {'rhis': '00000', 'date': '04/01/2020'},\n",
    "    {'rhis': '11111', 'date': '11/01/2020'}\n",
    "]"
   ]
  },
  {
   "cell_type": "code",
   "execution_count": 67,
   "metadata": {},
   "outputs": [],
   "source": [
    "row_sort = seq.SortSeqOfDicts(rows)"
   ]
  },
  {
   "cell_type": "code",
   "execution_count": 68,
   "metadata": {},
   "outputs": [
    {
     "name": "stdout",
     "output_type": "stream",
     "text": [
      "03/01/2020\n",
      "  {'rhis': '33333', 'date': '03/01/2020'}\n",
      "04/01/2020\n",
      "  {'rhis': '00000', 'date': '04/01/2020'}\n",
      "07/07/2020\n",
      "  {'rhis': '12345', 'date': '07/07/2020'}\n",
      "  {'rhis': '55555', 'date': '07/07/2020'}\n",
      "07/12/2015\n",
      "  {'rhis': '70707', 'date': '07/12/2015'}\n",
      "11/01/2020\n",
      "  {'rhis': '11111', 'date': '11/01/2020'}\n",
      "15/01/2020\n",
      "  {'rhis': '90909', 'date': '15/01/2020'}\n",
      "  {'rhis': '44444', 'date': '15/01/2020'}\n",
      "  {'rhis': '12222', 'date': '15/01/2020'}\n",
      "15/11/2020\n",
      "  {'rhis': '55455', 'date': '15/11/2020'}\n"
     ]
    }
   ],
   "source": [
    "# сортировку по датена самом деле надо по другому\n",
    "row_sort.sort_and_group_by_date()"
   ]
  },
  {
   "cell_type": "code",
   "execution_count": 69,
   "metadata": {},
   "outputs": [
    {
     "name": "stdout",
     "output_type": "stream",
     "text": [
      "{'rhis': '90909', 'date': '15/01/2020'}\n",
      "{'rhis': '44444', 'date': '15/01/2020'}\n",
      "{'rhis': '12222', 'date': '15/01/2020'}\n"
     ]
    }
   ],
   "source": [
    "# получение сгруппироанных записей по нужной дате через defaultdict()\n",
    "row_sort.sort_and_group_in_large_structure('15/01/2020')"
   ]
  },
  {
   "cell_type": "markdown",
   "metadata": {},
   "source": [
    "## Фильтрация элементов последовательности"
   ]
  },
  {
   "cell_type": "code",
   "execution_count": 70,
   "metadata": {},
   "outputs": [
    {
     "data": {
      "text/plain": [
       "[5, 3, 1, 11, 6, 10, 8, 4, 9, 3]"
      ]
     },
     "execution_count": 70,
     "metadata": {},
     "output_type": "execute_result"
    }
   ],
   "source": [
    "nums = [random.randint(0, 15) for x in range(10)]\n",
    "nums"
   ]
  },
  {
   "cell_type": "code",
   "execution_count": 71,
   "metadata": {},
   "outputs": [],
   "source": [
    "# через генератор списка\n",
    "nums_filtred = [n for n in nums if n > 4]"
   ]
  },
  {
   "cell_type": "code",
   "execution_count": 72,
   "metadata": {},
   "outputs": [
    {
     "data": {
      "text/plain": [
       "[5, 11, 6, 10, 8, 9]"
      ]
     },
     "execution_count": 72,
     "metadata": {},
     "output_type": "execute_result"
    }
   ],
   "source": [
    "nums_filtred"
   ]
  },
  {
   "cell_type": "code",
   "execution_count": 73,
   "metadata": {},
   "outputs": [],
   "source": [
    "# если список большой - использовать генератор списков, чтобы не загромождать память\n",
    "nums_filtred = (n for n in nums if n > 4)"
   ]
  },
  {
   "cell_type": "code",
   "execution_count": 74,
   "metadata": {},
   "outputs": [
    {
     "data": {
      "text/plain": [
       "<generator object <genexpr> at 0x7f69181ec750>"
      ]
     },
     "execution_count": 74,
     "metadata": {},
     "output_type": "execute_result"
    }
   ],
   "source": [
    "nums_filtred"
   ]
  },
  {
   "cell_type": "code",
   "execution_count": 75,
   "metadata": {},
   "outputs": [
    {
     "name": "stdout",
     "output_type": "stream",
     "text": [
      "5\n",
      "11\n",
      "6\n",
      "10\n",
      "8\n",
      "9\n"
     ]
    }
   ],
   "source": [
    "for i in nums_filtred:\n",
    "    print(i)"
   ]
  },
  {
   "cell_type": "code",
   "execution_count": 76,
   "metadata": {},
   "outputs": [
    {
     "data": {
      "text/plain": [
       "[]"
      ]
     },
     "execution_count": 76,
     "metadata": {},
     "output_type": "execute_result"
    }
   ],
   "source": [
    "# или так (надо помнить, что объект генератора поддерживает один проход, поэтому повторный вызов ничего не даст)\n",
    "list(nums_filtred)"
   ]
  },
  {
   "cell_type": "code",
   "execution_count": 77,
   "metadata": {},
   "outputs": [],
   "source": [
    "# если критерий фильтрации не может быть выражен генератором списка,\n",
    "# обернуть фильтрующий код в функцию и использовать filter()\n",
    "# filter() создает итератор, к нему тоже надо обращаться через list()\n",
    "values = ['1', '2', '55', '-', '4', 'NAN', '5']"
   ]
  },
  {
   "cell_type": "code",
   "execution_count": 78,
   "metadata": {},
   "outputs": [],
   "source": [
    "def is_int(val):\n",
    "    try:\n",
    "        x = int(val)\n",
    "        return True\n",
    "    except ValueError:\n",
    "        return False"
   ]
  },
  {
   "cell_type": "code",
   "execution_count": 79,
   "metadata": {},
   "outputs": [],
   "source": [
    "int_values = filter(is_int, values)"
   ]
  },
  {
   "cell_type": "code",
   "execution_count": 80,
   "metadata": {},
   "outputs": [
    {
     "name": "stdout",
     "output_type": "stream",
     "text": [
      "['1', '2', '55', '4', '5']\n"
     ]
    }
   ],
   "source": [
    "print(list(int_values))"
   ]
  },
  {
   "cell_type": "code",
   "execution_count": 81,
   "metadata": {},
   "outputs": [
    {
     "data": {
      "text/plain": [
       "[6, 15, 14, 0, 2, 7, 13, 13, 3, 1]"
      ]
     },
     "execution_count": 81,
     "metadata": {},
     "output_type": "execute_result"
    }
   ],
   "source": [
    "# генераторы списков и генераторные выражения позволяют менять данные на лету\n",
    "nums = [random.randint(0, 15) for x in range(10)]\n",
    "nums"
   ]
  },
  {
   "cell_type": "code",
   "execution_count": 82,
   "metadata": {},
   "outputs": [
    {
     "data": {
      "text/plain": [
       "[3.872983346207417, 3.7416573867739413, 3.605551275463989, 3.605551275463989]"
      ]
     },
     "execution_count": 82,
     "metadata": {},
     "output_type": "execute_result"
    }
   ],
   "source": [
    "import math\n",
    "[math.sqrt(n) for n in nums if n > 7]"
   ]
  },
  {
   "cell_type": "code",
   "execution_count": 83,
   "metadata": {},
   "outputs": [
    {
     "data": {
      "text/plain": [
       "[10, 13, 4, 4, 15, 7, 3, 4, 10, 11]"
      ]
     },
     "execution_count": 83,
     "metadata": {},
     "output_type": "execute_result"
    }
   ],
   "source": [
    "# отбраковку значений можно осуществить с помощью переменного критерия фильтрации\n",
    "nums = [random.randint(0, 15) for x in range(10)]\n",
    "nums"
   ]
  },
  {
   "cell_type": "code",
   "execution_count": 84,
   "metadata": {},
   "outputs": [
    {
     "data": {
      "text/plain": [
       "[10, 13, 4, 4, 15, 7, 0, 4, 10, 11]"
      ]
     },
     "execution_count": 84,
     "metadata": {},
     "output_type": "execute_result"
    }
   ],
   "source": [
    "[n if n > 3 else 0 for n in nums]"
   ]
  },
  {
   "cell_type": "code",
   "execution_count": 85,
   "metadata": {},
   "outputs": [],
   "source": [
    "# с помощью itertools.comperss() и последовательности-селектора из булевых значений\n",
    "# можно фильтровать по булям\n",
    "some = [\n",
    "    '1111',\n",
    "    '2222',\n",
    "    '3333',\n",
    "    '4444',\n",
    "    '5555'\n",
    "]\n",
    "count = [1, 0, 5, 3, 4]"
   ]
  },
  {
   "cell_type": "code",
   "execution_count": 86,
   "metadata": {},
   "outputs": [
    {
     "data": {
      "text/plain": [
       "[False, False, True, False, True]"
      ]
     },
     "execution_count": 86,
     "metadata": {},
     "output_type": "execute_result"
    }
   ],
   "source": [
    "from itertools import compress\n",
    "\n",
    "# вначале создадим последовательность булевых значений\n",
    "n_count = [n > 3 for n in count]\n",
    "n_count"
   ]
  },
  {
   "cell_type": "code",
   "execution_count": 87,
   "metadata": {},
   "outputs": [
    {
     "data": {
      "text/plain": [
       "['3333', '5555']"
      ]
     },
     "execution_count": 87,
     "metadata": {},
     "output_type": "execute_result"
    }
   ],
   "source": [
    "# затем получим результат фильтрации\n",
    "filtered = compress(some, n_count)\n",
    "list(filtered)"
   ]
  },
  {
   "cell_type": "markdown",
   "metadata": {},
   "source": [
    "## Извлечение подмножества из словаря"
   ]
  },
  {
   "cell_type": "code",
   "execution_count": 89,
   "metadata": {},
   "outputs": [],
   "source": [
    "some_dict = {\n",
    "    'this': 45,\n",
    "    'that': 15,\n",
    "    'who': 32,\n",
    "    'what': 114,\n",
    "    'where': 2\n",
    "}"
   ]
  },
  {
   "cell_type": "code",
   "execution_count": 93,
   "metadata": {},
   "outputs": [
    {
     "data": {
      "text/plain": [
       "{'this': 45, 'who': 32, 'what': 114}"
      ]
     },
     "execution_count": 93,
     "metadata": {},
     "output_type": "execute_result"
    }
   ],
   "source": [
    "# Все что больше 15\n",
    "sd1 = {key: value for key, value in some_dict.items() if value > 15}\n",
    "sd1"
   ]
  },
  {
   "cell_type": "code",
   "execution_count": 96,
   "metadata": {},
   "outputs": [
    {
     "data": {
      "text/plain": [
       "{'this': 45, 'that': 15, 'who': 32, 'what': 114}"
      ]
     },
     "execution_count": 96,
     "metadata": {},
     "output_type": "execute_result"
    }
   ],
   "source": [
    "# отбор по ключам, если они есть в словаре\n",
    "keys = {'this', 'that', 'who', 'what', 'how'}\n",
    "sd2 = {key: value for key, value in some_dict.items() if key in keys}\n",
    "sd2"
   ]
  },
  {
   "cell_type": "markdown",
   "metadata": {},
   "source": [
    "## Отображение имен на последовательность\n",
    "\n",
    "Задача становится актуальной, когда необходимо поддерживать семантический код. Тогджа обращение по индексу последовательности ухудшает читабельность. К тому же, при изменеении размера последовательности, можно получить не ожидаемый результат (например изменение размера таблицы в БД)\n",
    "\n",
    "Решение - перегнать последовательность в collections.namedtuple()\n",
    "\n",
    "namedtuple() - это фабричный метод, который возвращает подкласс стандартного кортежа. Для этого подкласса необходимо задать имя типа и поля. Затем можно создавать экземпляры с определенными полями."
   ]
  },
  {
   "cell_type": "code",
   "execution_count": 98,
   "metadata": {},
   "outputs": [
    {
     "data": {
      "text/plain": [
       "__main__.user"
      ]
     },
     "execution_count": 98,
     "metadata": {},
     "output_type": "execute_result"
    }
   ],
   "source": [
    "from collections import namedtuple\n",
    "SomeTup = namedtuple('user', ['name', 'age'])\n",
    "SomeTup"
   ]
  },
  {
   "cell_type": "code",
   "execution_count": 100,
   "metadata": {},
   "outputs": [
    {
     "data": {
      "text/plain": [
       "user(name='Ivan', age='45')"
      ]
     },
     "execution_count": 100,
     "metadata": {},
     "output_type": "execute_result"
    }
   ],
   "source": [
    "users = SomeTup('Ivan', '45')\n",
    "users"
   ]
  },
  {
   "cell_type": "code",
   "execution_count": 101,
   "metadata": {},
   "outputs": [
    {
     "data": {
      "text/plain": [
       "'Ivan'"
      ]
     },
     "execution_count": 101,
     "metadata": {},
     "output_type": "execute_result"
    }
   ],
   "source": [
    "# теперь возможен доступ по атрибутам\n",
    "users.name"
   ]
  },
  {
   "cell_type": "code",
   "execution_count": 102,
   "metadata": {},
   "outputs": [
    {
     "data": {
      "text/plain": [
       "'45'"
      ]
     },
     "execution_count": 102,
     "metadata": {},
     "output_type": "execute_result"
    }
   ],
   "source": [
    "users.age"
   ]
  },
  {
   "cell_type": "code",
   "execution_count": 103,
   "metadata": {},
   "outputs": [
    {
     "data": {
      "text/plain": [
       "2"
      ]
     },
     "execution_count": 103,
     "metadata": {},
     "output_type": "execute_result"
    }
   ],
   "source": [
    "# Поддерживаются все методы кортежей\n",
    "len(users)"
   ]
  },
  {
   "cell_type": "code",
   "execution_count": 104,
   "metadata": {},
   "outputs": [
    {
     "data": {
      "text/plain": [
       "'Ivan'"
      ]
     },
     "execution_count": 104,
     "metadata": {},
     "output_type": "execute_result"
    }
   ],
   "source": [
    "name, age = users\n",
    "name"
   ]
  },
  {
   "cell_type": "code",
   "execution_count": 105,
   "metadata": {},
   "outputs": [
    {
     "data": {
      "text/plain": [
       "'45'"
      ]
     },
     "execution_count": 105,
     "metadata": {},
     "output_type": "execute_result"
    }
   ],
   "source": [
    "age"
   ]
  },
  {
   "cell_type": "code",
   "execution_count": 107,
   "metadata": {},
   "outputs": [],
   "source": [
    "# такая конструкция используется для отвязки от индексов (но это дороже)\n",
    "\n",
    "Stock = namedtuple('Stock', ['name', 'shares', 'price'])\n",
    "def compute_cost(records):\n",
    "    total = 0.0\n",
    "    for rec in records:\n",
    "        s = Stock(*rec)\n",
    "        total += s.shares * s.price\n",
    "    return total"
   ]
  },
  {
   "cell_type": "code",
   "execution_count": 108,
   "metadata": {},
   "outputs": [],
   "source": [
    "prices = [\n",
    "    ['aviamot', 16, 45.0],\n",
    "    ['perov', 22, 1.12],\n",
    "    ['sklad', 55, 0.3]\n",
    "]"
   ]
  },
  {
   "cell_type": "code",
   "execution_count": 109,
   "metadata": {},
   "outputs": [
    {
     "data": {
      "text/plain": [
       "761.14"
      ]
     },
     "execution_count": 109,
     "metadata": {},
     "output_type": "execute_result"
    }
   ],
   "source": [
    "compute_cost(prices)"
   ]
  },
  {
   "cell_type": "markdown",
   "metadata": {},
   "source": [
    "Также можно использовать длязамены словаря, т.к. словарь требует больше места для хранения.\n",
    "\n",
    "Однако кортежи - неизменяемы, в отличии от словарей!!!\n",
    "\n",
    "Чтобы решить эту проблему, можно использовать метод _replace(), который создает полностью новый именованный кортеж, в котором указаныне значения заменеены\n",
    "\n"
   ]
  },
  {
   "cell_type": "code",
   "execution_count": 111,
   "metadata": {},
   "outputs": [
    {
     "data": {
      "text/plain": [
       "Stock(name='my', shares=155, price=12.0)"
      ]
     },
     "execution_count": 111,
     "metadata": {},
     "output_type": "execute_result"
    }
   ],
   "source": [
    "s = Stock('my', 55, 12.0)\n",
    "s = s._replace(shares=155)\n",
    "s"
   ]
  },
  {
   "cell_type": "code",
   "execution_count": 113,
   "metadata": {},
   "outputs": [],
   "source": [
    "# метод _replace() можно использовать для создания прототипа кортежа со значениями по умолчанию, \n",
    "# а затем для создания новых экземляров с измененными значениями\n",
    "\n",
    "# более эффективно для подобных структур использовать отдельный класс с определением __slots__\n",
    "\n",
    "Stock = namedtuple('Stock', ['name', 'shares', 'price', 'date', 'time'])\n",
    "\n",
    "stock_prototype = Stock('', 0, 0.0, None, None)\n",
    "\n",
    "def dict_to_stock_prototype(s):\n",
    "    return stock_prototype._replace(**s)"
   ]
  },
  {
   "cell_type": "code",
   "execution_count": 114,
   "metadata": {},
   "outputs": [
    {
     "data": {
      "text/plain": [
       "Stock(name='some', shares=12, price=1.0, date='12/12/2020', time='12:30')"
      ]
     },
     "execution_count": 114,
     "metadata": {},
     "output_type": "execute_result"
    }
   ],
   "source": [
    "examp = {'name': 'some', 'shares': 12, 'price': 1.0, 'date': '12/12/2020', 'time': '12:30'}\n",
    "dict_to_stock_prototype(examp)"
   ]
  },
  {
   "cell_type": "code",
   "execution_count": null,
   "metadata": {},
   "outputs": [],
   "source": []
  }
 ],
 "metadata": {
  "kernelspec": {
   "display_name": "Python 3",
   "language": "python",
   "name": "python3"
  },
  "language_info": {
   "codemirror_mode": {
    "name": "ipython",
    "version": 3
   },
   "file_extension": ".py",
   "mimetype": "text/x-python",
   "name": "python",
   "nbconvert_exporter": "python",
   "pygments_lexer": "ipython3",
   "version": "3.7.7"
  }
 },
 "nbformat": 4,
 "nbformat_minor": 4
}
