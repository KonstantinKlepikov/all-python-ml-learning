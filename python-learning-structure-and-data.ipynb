{
 "cells": [
  {
   "cell_type": "code",
   "execution_count": 1,
   "metadata": {},
   "outputs": [],
   "source": [
    "from python_learning import sequences as seq"
   ]
  },
  {
   "cell_type": "code",
   "execution_count": 2,
   "metadata": {},
   "outputs": [],
   "source": [
    "arb_len_seq = list(range(10))\n",
    "arb_len_seq"
   ]
  },
  {
   "cell_type": "code",
   "execution_count": 3,
   "metadata": {},
   "outputs": [],
   "source": [
    "seq.arbitrary_len(arb_len_seq, mode=\"first\")"
   ]
  },
  {
   "cell_type": "code",
   "execution_count": 4,
   "metadata": {},
   "outputs": [],
   "source": [
    "seq.arbitrary_len(arb_len_seq, mode=\"middle\")"
   ]
  },
  {
   "cell_type": "code",
   "execution_count": 5,
   "metadata": {},
   "outputs": [],
   "source": [
    "seq.arbitrary_len(arb_len_seq, mode=\"last\")"
   ]
  },
  {
   "cell_type": "code",
   "execution_count": 6,
   "metadata": {},
   "outputs": [
    {
     "name": "stdout",
     "output_type": "stream",
     "text": [
      "\n",
      "elem: Текст и тексты\n",
      "\n",
      "pelem: Текст и тексты\n",
      "pelem: «Настройка» и «подписка» существуют только в единственном числе. Это все знают, потому что проверяли по словарю Ушакова.\n",
      "\n",
      "elem: А мне еще кажется, что «текст» тоже следует использовать только в единственном числе:\n",
      "\n",
      "pelem: «Настройка» и «подписка» существуют только в единственном числе. Это все знают, потому что проверяли по словарю Ушакова.\n",
      "pelem: А мне еще кажется, что «текст» тоже следует использовать только в единственном числе:\n",
      "pelem: Плохо\n",
      "\n",
      "elem: Написать тексты для сайта\n",
      "\n",
      "pelem: А мне еще кажется, что «текст» тоже следует использовать только в единственном числе:\n",
      "pelem: Плохо\n",
      "pelem: Написать тексты для сайта\n",
      "\n",
      "elem: Написать текст для сайта\n",
      "\n",
      "pelem: Плохо\n",
      "pelem: Написать тексты для сайта\n",
      "pelem: Написать текст для сайта\n",
      "\n",
      "elem: Написать текст сайта\n",
      "\n"
     ]
    }
   ],
   "source": [
    "with open('python_learning/content/some_text.txt') as some_text:\n",
    "    for elem, prev_elem in seq.search_and_scrop(some_text, \n",
    "                                                pattern='текст', N=3):\n",
    "        for pelem in prev_elem:\n",
    "            print('pelem: {0}'.format(pelem), end='')\n",
    "        print('\\nelem: {0}\\n'.format(elem), end='')"
   ]
  },
  {
   "cell_type": "code",
   "execution_count": 10,
   "metadata": {},
   "outputs": [
    {
     "data": {
      "text/plain": [
       "[9, 10, 9, 13, 5, 11, 9, 3, 15, 15]"
      ]
     },
     "execution_count": 10,
     "metadata": {},
     "output_type": "execute_result"
    }
   ],
   "source": [
    "import random\n",
    "nums = [random.randint(0, 15) for x in range(10)]\n",
    "nums"
   ]
  },
  {
   "cell_type": "code",
   "execution_count": 11,
   "metadata": {},
   "outputs": [
    {
     "data": {
      "text/plain": [
       "[3, 5, 9]"
      ]
     },
     "execution_count": 11,
     "metadata": {},
     "output_type": "execute_result"
    }
   ],
   "source": [
    "seq.searc_for_minmax(nums, mode=\"min\")"
   ]
  },
  {
   "cell_type": "code",
   "execution_count": 12,
   "metadata": {},
   "outputs": [
    {
     "data": {
      "text/plain": [
       "[15, 15, 13, 11, 10]"
      ]
     },
     "execution_count": 12,
     "metadata": {},
     "output_type": "execute_result"
    }
   ],
   "source": [
    "seq.searc_for_minmax(nums, mode=\"max\", N=5)"
   ]
  },
  {
   "cell_type": "code",
   "execution_count": 13,
   "metadata": {},
   "outputs": [
    {
     "data": {
      "text/plain": [
       "[[7, 1, 4, 9, 4, 2, 1, 3, 7, 3],\n",
       " [0, 14, 9, 11, 3, 7, 14, 7, 2, 1],\n",
       " [6, 9, 1, 0, 15, 5, 15, 13, 13, 12],\n",
       " [7, 5, 13, 13, 1, 9, 14, 9, 7, 6],\n",
       " [14, 11, 5, 2, 1, 12, 6, 7, 10, 1],\n",
       " [13, 8, 9, 2, 6, 4, 4, 0, 15, 3],\n",
       " [7, 3, 6, 7, 9, 7, 9, 4, 10, 14],\n",
       " [12, 15, 5, 13, 9, 1, 9, 5, 10, 15],\n",
       " [1, 11, 11, 8, 15, 12, 6, 13, 8, 9],\n",
       " [3, 7, 12, 12, 1, 14, 7, 7, 5, 5]]"
      ]
     },
     "execution_count": 13,
     "metadata": {},
     "output_type": "execute_result"
    }
   ],
   "source": [
    "mult_nums = [[random.randint(0, 15) for x in range(10)] for y in range(10)]\n",
    "mult_nums"
   ]
  },
  {
   "cell_type": "code",
   "execution_count": 21,
   "metadata": {},
   "outputs": [
    {
     "data": {
      "text/plain": [
       "[[0, 14, 9, 11, 3, 7, 14, 7, 2, 1], [1, 11, 11, 8, 15, 12, 6, 13, 8, 9]]"
      ]
     },
     "execution_count": 21,
     "metadata": {},
     "output_type": "execute_result"
    }
   ],
   "source": [
    "# two lists with smallest number in first 3 position\n",
    "seq.searc_for_minmax(mult_nums, mode=\"min\", key=lambda s: s[0:3], N=2)"
   ]
  },
  {
   "cell_type": "code",
   "execution_count": null,
   "metadata": {},
   "outputs": [],
   "source": []
  }
 ],
 "metadata": {
  "kernelspec": {
   "display_name": "Python 3",
   "language": "python",
   "name": "python3"
  },
  "language_info": {
   "codemirror_mode": {
    "name": "ipython",
    "version": 3
   },
   "file_extension": ".py",
   "mimetype": "text/x-python",
   "name": "python",
   "nbconvert_exporter": "python",
   "pygments_lexer": "ipython3",
   "version": "3.7.7"
  }
 },
 "nbformat": 4,
 "nbformat_minor": 4
}
